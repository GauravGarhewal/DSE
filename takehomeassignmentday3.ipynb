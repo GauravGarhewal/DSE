{
 "cells": [
  {
   "cell_type": "code",
   "execution_count": 1,
   "metadata": {},
   "outputs": [
    {
     "data": {
      "text/html": [
       "<div>\n",
       "<style scoped>\n",
       "    .dataframe tbody tr th:only-of-type {\n",
       "        vertical-align: middle;\n",
       "    }\n",
       "\n",
       "    .dataframe tbody tr th {\n",
       "        vertical-align: top;\n",
       "    }\n",
       "\n",
       "    .dataframe thead th {\n",
       "        text-align: right;\n",
       "    }\n",
       "</style>\n",
       "<table border=\"1\" class=\"dataframe\">\n",
       "  <thead>\n",
       "    <tr style=\"text-align: right;\">\n",
       "      <th></th>\n",
       "      <th>satisfaction_level</th>\n",
       "      <th>last_evaluation</th>\n",
       "      <th>number_project</th>\n",
       "      <th>average_montly_hours</th>\n",
       "      <th>time_spend_company</th>\n",
       "      <th>Work_accident</th>\n",
       "      <th>left</th>\n",
       "      <th>promotion_last_5years</th>\n",
       "      <th>department</th>\n",
       "      <th>salary</th>\n",
       "    </tr>\n",
       "  </thead>\n",
       "  <tbody>\n",
       "    <tr>\n",
       "      <th>0</th>\n",
       "      <td>0.38</td>\n",
       "      <td>0.53</td>\n",
       "      <td>2</td>\n",
       "      <td>157</td>\n",
       "      <td>3</td>\n",
       "      <td>0</td>\n",
       "      <td>1</td>\n",
       "      <td>0</td>\n",
       "      <td>sales</td>\n",
       "      <td>low</td>\n",
       "    </tr>\n",
       "    <tr>\n",
       "      <th>1</th>\n",
       "      <td>0.80</td>\n",
       "      <td>0.86</td>\n",
       "      <td>5</td>\n",
       "      <td>262</td>\n",
       "      <td>6</td>\n",
       "      <td>0</td>\n",
       "      <td>1</td>\n",
       "      <td>0</td>\n",
       "      <td>sales</td>\n",
       "      <td>medium</td>\n",
       "    </tr>\n",
       "    <tr>\n",
       "      <th>2</th>\n",
       "      <td>0.11</td>\n",
       "      <td>0.88</td>\n",
       "      <td>7</td>\n",
       "      <td>272</td>\n",
       "      <td>4</td>\n",
       "      <td>0</td>\n",
       "      <td>1</td>\n",
       "      <td>0</td>\n",
       "      <td>sales</td>\n",
       "      <td>medium</td>\n",
       "    </tr>\n",
       "    <tr>\n",
       "      <th>3</th>\n",
       "      <td>0.72</td>\n",
       "      <td>0.87</td>\n",
       "      <td>5</td>\n",
       "      <td>223</td>\n",
       "      <td>5</td>\n",
       "      <td>0</td>\n",
       "      <td>1</td>\n",
       "      <td>0</td>\n",
       "      <td>sales</td>\n",
       "      <td>low</td>\n",
       "    </tr>\n",
       "    <tr>\n",
       "      <th>4</th>\n",
       "      <td>0.37</td>\n",
       "      <td>0.52</td>\n",
       "      <td>2</td>\n",
       "      <td>159</td>\n",
       "      <td>3</td>\n",
       "      <td>0</td>\n",
       "      <td>1</td>\n",
       "      <td>0</td>\n",
       "      <td>sales</td>\n",
       "      <td>low</td>\n",
       "    </tr>\n",
       "  </tbody>\n",
       "</table>\n",
       "</div>"
      ],
      "text/plain": [
       "   satisfaction_level  last_evaluation  number_project  average_montly_hours  \\\n",
       "0                0.38             0.53               2                   157   \n",
       "1                0.80             0.86               5                   262   \n",
       "2                0.11             0.88               7                   272   \n",
       "3                0.72             0.87               5                   223   \n",
       "4                0.37             0.52               2                   159   \n",
       "\n",
       "   time_spend_company  Work_accident  left  promotion_last_5years department  \\\n",
       "0                   3              0     1                      0      sales   \n",
       "1                   6              0     1                      0      sales   \n",
       "2                   4              0     1                      0      sales   \n",
       "3                   5              0     1                      0      sales   \n",
       "4                   3              0     1                      0      sales   \n",
       "\n",
       "   salary  \n",
       "0     low  \n",
       "1  medium  \n",
       "2  medium  \n",
       "3     low  \n",
       "4     low  "
      ]
     },
     "execution_count": 1,
     "metadata": {},
     "output_type": "execute_result"
    }
   ],
   "source": [
    "from numpy import *\n",
    "import numpy as np\n",
    "import pandas as pd\n",
    "from pandas import DataFrame\n",
    "from pandas import Series\n",
    "import matplotlib.pyplot as plt\n",
    "import seaborn as sns\n",
    "\n",
    "HR = pd.read_csv('F:/Week 4/EDA_Bangalore/EDA_Chennai_/HR_comma_sep.csv',sep = ',')\n",
    "\n",
    "HR.rename(columns={'sales':'department'}, inplace=True)\n",
    "\n",
    "HR.head()"
   ]
  },
  {
   "cell_type": "markdown",
   "metadata": {},
   "source": [
    "# 1. How much percentage of employees left the company in different departments? "
   ]
  },
  {
   "cell_type": "code",
   "execution_count": 83,
   "metadata": {},
   "outputs": [
    {
     "name": "stdout",
     "output_type": "stream",
     "text": [
      "Employees left in different departments by percentage are : \n",
      "\n",
      " department\n",
      "IT             22.249389\n",
      "RandD          15.374841\n",
      "accounting     26.597132\n",
      "hr             29.093369\n",
      "management     14.444444\n",
      "marketing      23.659674\n",
      "product_mng    21.951220\n",
      "sales          24.492754\n",
      "support        24.899058\n",
      "technical      25.625000\n",
      "Name: Number of employees, dtype: float64\n"
     ]
    }
   ],
   "source": [
    "emp_left=HR.groupby(['left','department']).count()\n",
    "emp_left['Number of employees']=emp_left['satisfaction_level']\n",
    "a=(emp_left['Number of employees'][1]/(emp_left['Number of employees'][0]+\n",
    "                                       emp_left['Number of employees'][1]))*100\n",
    "print(\"Employees left in different departments by percentage are : \\n\\n\",a)\n"
   ]
  },
  {
   "cell_type": "markdown",
   "metadata": {},
   "source": [
    "# 2. How many employees got promoted in different salary ranges? "
   ]
  },
  {
   "cell_type": "code",
   "execution_count": 27,
   "metadata": {},
   "outputs": [
    {
     "name": "stdout",
     "output_type": "stream",
     "text": [
      "Number of employees promoted according to salary range : \n",
      "\n",
      " salary\n",
      "high       72\n",
      "low        66\n",
      "medium    181\n",
      "Name: Number of employees, dtype: int64\n"
     ]
    }
   ],
   "source": [
    "emp_prom_sal=HR.groupby(['promotion_last_5years','salary']).count()\n",
    "emp_prom_sal['Number of employees']=emp_prom_sal['satisfaction_level']\n",
    "print(\"Number of employees promoted according to salary range : \\n\\n\",emp_prom_sal['Number of employees'][1])"
   ]
  },
  {
   "cell_type": "markdown",
   "metadata": {},
   "source": [
    "# 3. How many employees, who got promoted left the company in different salary ranges? "
   ]
  },
  {
   "cell_type": "code",
   "execution_count": 35,
   "metadata": {},
   "outputs": [
    {
     "name": "stdout",
     "output_type": "stream",
     "text": [
      "Number of employees promoted and left: \n",
      "\n",
      " salary\n",
      "low       14\n",
      "medium     5\n",
      "Name: Number of employees, dtype: int64\n"
     ]
    }
   ],
   "source": [
    "emp_prom_left=HR.groupby(['promotion_last_5years','left','salary']).count()\n",
    "emp_prom_left['Number of employees']=emp_prom_left['satisfaction_level']\n",
    "print(\"Number of employees promoted and left: \\n\\n\",emp_prom_left['Number of employees'][1][1])"
   ]
  },
  {
   "cell_type": "markdown",
   "metadata": {},
   "source": [
    "# 4. How many employees, who got promoted left the company in different departments? "
   ]
  },
  {
   "cell_type": "code",
   "execution_count": 64,
   "metadata": {},
   "outputs": [
    {
     "name": "stdout",
     "output_type": "stream",
     "text": [
      "Number of employees promoted and left: \n",
      "\n",
      " department\n",
      "IT            3\n",
      "management    3\n",
      "sales         7\n",
      "support       3\n",
      "technical     3\n",
      "Name: Number of employees, dtype: int64\n"
     ]
    }
   ],
   "source": [
    "emp_prom_left_dep=HR.groupby(['promotion_last_5years','left','department']).count()\n",
    "\n",
    "emp_prom_left_dep['Number of employees']=emp_prom_left_dep['satisfaction_level']\n",
    "\n",
    "a=emp_prom_left_dep['Number of employees'][1][1]\n",
    "\n",
    "print(\"Number of employees promoted and left: \\n\\n\",a)"
   ]
  },
  {
   "cell_type": "markdown",
   "metadata": {},
   "source": [
    "# 5. Average satisfaction level of the company of those who left?"
   ]
  },
  {
   "cell_type": "code",
   "execution_count": 62,
   "metadata": {},
   "outputs": [
    {
     "name": "stdout",
     "output_type": "stream",
     "text": [
      "Average satisfaction level of employee who left is :  0.44009801176140917\n"
     ]
    }
   ],
   "source": [
    "emp_lef=HR.groupby('left').mean()['satisfaction_level'][1]\n",
    "\n",
    "print(\"Average satisfaction level of employee who left is : \",emp_lef)"
   ]
  },
  {
   "cell_type": "markdown",
   "metadata": {},
   "source": [
    "# 6. Average evaluation points of the company who stayed?"
   ]
  },
  {
   "cell_type": "code",
   "execution_count": 61,
   "metadata": {},
   "outputs": [
    {
     "name": "stdout",
     "output_type": "stream",
     "text": [
      "Average Evaluation point of emp stayed :  0.7154733986699274\n"
     ]
    }
   ],
   "source": [
    "b=HR.groupby('left').mean()['last_evaluation'][0]\n",
    "print(\"Average Evaluation point of emp stayed : \",b)"
   ]
  },
  {
   "cell_type": "markdown",
   "metadata": {},
   "source": [
    "# 7. Average monthly time spent by employees?"
   ]
  },
  {
   "cell_type": "code",
   "execution_count": 60,
   "metadata": {},
   "outputs": [
    {
     "name": "stdout",
     "output_type": "stream",
     "text": [
      "Average montly hours spend by emp:  201.0503366891126\n"
     ]
    }
   ],
   "source": [
    "a=HR['average_montly_hours'].mean()\n",
    "print(\"Average montly hours spend by emp: \",a)"
   ]
  },
  {
   "cell_type": "markdown",
   "metadata": {},
   "source": [
    "# 8. Average number of projects that each employee works on?"
   ]
  },
  {
   "cell_type": "code",
   "execution_count": 55,
   "metadata": {},
   "outputs": [
    {
     "name": "stdout",
     "output_type": "stream",
     "text": [
      "Average number of projects :  3.80305353690246\n"
     ]
    }
   ],
   "source": [
    "print(\"Average number of projects : \",HR['number_project'].mean())"
   ]
  },
  {
   "cell_type": "markdown",
   "metadata": {},
   "source": [
    "# 9. Average monthly hours spent by the employees who “left”?"
   ]
  },
  {
   "cell_type": "code",
   "execution_count": 65,
   "metadata": {},
   "outputs": [
    {
     "name": "stdout",
     "output_type": "stream",
     "text": [
      "Average monthly hour spend by emp left is:  207.41921030523662\n"
     ]
    }
   ],
   "source": [
    "emp_lef_hr=HR.groupby('left').mean()['average_montly_hours'][1]\n",
    "print('Average monthly hour spend by emp left is: ',emp_lef_hr)"
   ]
  },
  {
   "cell_type": "markdown",
   "metadata": {},
   "source": [
    "# 10. How many employees left after work accident?"
   ]
  },
  {
   "cell_type": "code",
   "execution_count": 67,
   "metadata": {},
   "outputs": [
    {
     "name": "stdout",
     "output_type": "stream",
     "text": [
      "Number od employees left after accident:  169\n"
     ]
    }
   ],
   "source": [
    "emp_acc=HR.groupby(['Work_accident','left']).count()\n",
    "emp_acc['Number of employees']=emp_acc['satisfaction_level']\n",
    "a=emp_acc['Number of employees'][1][1]\n",
    "print(\"Number od employees left after accident: \",a)"
   ]
  },
  {
   "cell_type": "markdown",
   "metadata": {},
   "source": [
    "# 11. Which department has the highest satisfaction level?"
   ]
  },
  {
   "cell_type": "code",
   "execution_count": 104,
   "metadata": {},
   "outputs": [
    {
     "name": "stdout",
     "output_type": "stream",
     "text": [
      "The department with high level of satisfaction is : \n",
      " department\n",
      "management    0.621349\n",
      "Name: satisfaction_level, dtype: float64\n"
     ]
    }
   ],
   "source": [
    "emp_dept=HR.groupby('department').mean()\n",
    "a=emp_dept['satisfaction_level'].max()\n",
    "\n",
    "b=emp_dept[emp_dept['satisfaction_level']==a]['satisfaction_level']\n",
    "\n",
    "print(\"The department with high level of satisfaction is : \\n\",b)"
   ]
  },
  {
   "cell_type": "markdown",
   "metadata": {},
   "source": [
    "# 12. Which department’s employees have the best evaluation?"
   ]
  },
  {
   "cell_type": "code",
   "execution_count": 109,
   "metadata": {},
   "outputs": [
    {
     "name": "stdout",
     "output_type": "stream",
     "text": [
      "The department with high level of satisfaction is : \n",
      " department\n",
      "management    0.724\n",
      "Name: last_evaluation, dtype: float64\n"
     ]
    }
   ],
   "source": [
    "emp_dept=HR.groupby('department').mean()\n",
    "\n",
    "a=emp_dept['last_evaluation'].max()\n",
    "\n",
    "b=emp_dept[emp_dept['last_evaluation']==a]['last_evaluation']\n",
    "\n",
    "print(\"The department with high level of satisfaction is : \\n\",b)"
   ]
  },
  {
   "cell_type": "code",
   "execution_count": null,
   "metadata": {},
   "outputs": [],
   "source": []
  }
 ],
 "metadata": {
  "kernelspec": {
   "display_name": "Python 3",
   "language": "python",
   "name": "python3"
  },
  "language_info": {
   "codemirror_mode": {
    "name": "ipython",
    "version": 3
   },
   "file_extension": ".py",
   "mimetype": "text/x-python",
   "name": "python",
   "nbconvert_exporter": "python",
   "pygments_lexer": "ipython3",
   "version": "3.7.0"
  }
 },
 "nbformat": 4,
 "nbformat_minor": 2
}
