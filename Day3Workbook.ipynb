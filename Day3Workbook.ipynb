{
 "cells": [
  {
   "cell_type": "code",
   "execution_count": 1,
   "metadata": {},
   "outputs": [
    {
     "name": "stdout",
     "output_type": "stream",
     "text": [
      "1\n"
     ]
    }
   ],
   "source": [
    "list1=[1,2,3,4]\n",
    "result=list1.pop(0)\n",
    "print(result)"
   ]
  },
  {
   "cell_type": "code",
   "execution_count": 2,
   "metadata": {},
   "outputs": [
    {
     "name": "stdout",
     "output_type": "stream",
     "text": [
      "[1, 2, 4]\n"
     ]
    }
   ],
   "source": [
    "list1=[1,2,3,4]\n",
    "del(list1[2])\n",
    "print(list1)"
   ]
  },
  {
   "cell_type": "code",
   "execution_count": 3,
   "metadata": {},
   "outputs": [],
   "source": [
    "string1=\"Hello World\""
   ]
  },
  {
   "cell_type": "code",
   "execution_count": 4,
   "metadata": {},
   "outputs": [
    {
     "name": "stdout",
     "output_type": "stream",
     "text": [
      "Enter the value to check palindrome: 565\n",
      "565  is a Palindrome\n"
     ]
    }
   ],
   "source": [
    "a=input(\"Enter the value to check palindrome: \")\n",
    "b=str(a)\n",
    "list1=list(b)\n",
    "temp=list1\n",
    "temp.reverse()\n",
    "if list1==temp:\n",
    "    print(a,\" is a Palindrome\")\n",
    "else:\n",
    "    print(a,\" is not a Palindrome\")"
   ]
  },
  {
   "cell_type": "code",
   "execution_count": 5,
   "metadata": {},
   "outputs": [
    {
     "name": "stdout",
     "output_type": "stream",
     "text": [
      "7\n"
     ]
    }
   ],
   "source": [
    "list1=[10,1,6,7,100]\n",
    "a= sorted(list1)\n",
    "print(a[len(a)//2])"
   ]
  },
  {
   "cell_type": "code",
   "execution_count": 6,
   "metadata": {},
   "outputs": [],
   "source": [
    "def isiteven(val):\n",
    "    if val%2==0:\n",
    "        return(True)\n",
    "    else:\n",
    "        return(False)"
   ]
  },
  {
   "cell_type": "code",
   "execution_count": 7,
   "metadata": {},
   "outputs": [
    {
     "name": "stdout",
     "output_type": "stream",
     "text": [
      "True\n"
     ]
    }
   ],
   "source": [
    "a= isiteven(56)\n",
    "print(a)"
   ]
  },
  {
   "cell_type": "code",
   "execution_count": 8,
   "metadata": {},
   "outputs": [
    {
     "data": {
      "text/plain": [
       "False"
      ]
     },
     "execution_count": 8,
     "metadata": {},
     "output_type": "execute_result"
    }
   ],
   "source": [
    "isiteven(63)"
   ]
  },
  {
   "cell_type": "code",
   "execution_count": 9,
   "metadata": {},
   "outputs": [],
   "source": [
    "def maximum(val):\n",
    "    temp=0\n",
    "    for i in val:\n",
    "        if i>temp:\n",
    "            temp=i\n",
    "    return(temp)\n"
   ]
  },
  {
   "cell_type": "code",
   "execution_count": 10,
   "metadata": {},
   "outputs": [
    {
     "data": {
      "text/plain": [
       "100"
      ]
     },
     "execution_count": 10,
     "metadata": {},
     "output_type": "execute_result"
    }
   ],
   "source": [
    "list1=[1,2,8,3,100,5,9,3,8]\n",
    "maximum(list1)"
   ]
  },
  {
   "cell_type": "code",
   "execution_count": 11,
   "metadata": {},
   "outputs": [
    {
     "name": "stdout",
     "output_type": "stream",
     "text": [
      "15\n"
     ]
    }
   ],
   "source": [
    "num=0b00001111\n",
    "print(num)"
   ]
  },
  {
   "cell_type": "code",
   "execution_count": 12,
   "metadata": {},
   "outputs": [
    {
     "data": {
      "text/plain": [
       "['__add__',\n",
       " '__class__',\n",
       " '__contains__',\n",
       " '__delattr__',\n",
       " '__delitem__',\n",
       " '__dir__',\n",
       " '__doc__',\n",
       " '__eq__',\n",
       " '__format__',\n",
       " '__ge__',\n",
       " '__getattribute__',\n",
       " '__getitem__',\n",
       " '__gt__',\n",
       " '__hash__',\n",
       " '__iadd__',\n",
       " '__imul__',\n",
       " '__init__',\n",
       " '__init_subclass__',\n",
       " '__iter__',\n",
       " '__le__',\n",
       " '__len__',\n",
       " '__lt__',\n",
       " '__mul__',\n",
       " '__ne__',\n",
       " '__new__',\n",
       " '__reduce__',\n",
       " '__reduce_ex__',\n",
       " '__repr__',\n",
       " '__reversed__',\n",
       " '__rmul__',\n",
       " '__setattr__',\n",
       " '__setitem__',\n",
       " '__sizeof__',\n",
       " '__str__',\n",
       " '__subclasshook__',\n",
       " 'append',\n",
       " 'clear',\n",
       " 'copy',\n",
       " 'count',\n",
       " 'extend',\n",
       " 'index',\n",
       " 'insert',\n",
       " 'pop',\n",
       " 'remove',\n",
       " 'reverse',\n",
       " 'sort']"
      ]
     },
     "execution_count": 12,
     "metadata": {},
     "output_type": "execute_result"
    }
   ],
   "source": [
    "dir(list1)"
   ]
  },
  {
   "cell_type": "code",
   "execution_count": 13,
   "metadata": {},
   "outputs": [
    {
     "data": {
      "text/plain": [
       "mappingproxy({'__repr__': <slot wrapper '__repr__' of 'list' objects>,\n",
       "              '__hash__': None,\n",
       "              '__getattribute__': <slot wrapper '__getattribute__' of 'list' objects>,\n",
       "              '__lt__': <slot wrapper '__lt__' of 'list' objects>,\n",
       "              '__le__': <slot wrapper '__le__' of 'list' objects>,\n",
       "              '__eq__': <slot wrapper '__eq__' of 'list' objects>,\n",
       "              '__ne__': <slot wrapper '__ne__' of 'list' objects>,\n",
       "              '__gt__': <slot wrapper '__gt__' of 'list' objects>,\n",
       "              '__ge__': <slot wrapper '__ge__' of 'list' objects>,\n",
       "              '__iter__': <slot wrapper '__iter__' of 'list' objects>,\n",
       "              '__init__': <slot wrapper '__init__' of 'list' objects>,\n",
       "              '__len__': <slot wrapper '__len__' of 'list' objects>,\n",
       "              '__getitem__': <method '__getitem__' of 'list' objects>,\n",
       "              '__setitem__': <slot wrapper '__setitem__' of 'list' objects>,\n",
       "              '__delitem__': <slot wrapper '__delitem__' of 'list' objects>,\n",
       "              '__add__': <slot wrapper '__add__' of 'list' objects>,\n",
       "              '__mul__': <slot wrapper '__mul__' of 'list' objects>,\n",
       "              '__rmul__': <slot wrapper '__rmul__' of 'list' objects>,\n",
       "              '__contains__': <slot wrapper '__contains__' of 'list' objects>,\n",
       "              '__iadd__': <slot wrapper '__iadd__' of 'list' objects>,\n",
       "              '__imul__': <slot wrapper '__imul__' of 'list' objects>,\n",
       "              '__new__': <function list.__new__(*args, **kwargs)>,\n",
       "              '__reversed__': <method '__reversed__' of 'list' objects>,\n",
       "              '__sizeof__': <method '__sizeof__' of 'list' objects>,\n",
       "              'clear': <method 'clear' of 'list' objects>,\n",
       "              'copy': <method 'copy' of 'list' objects>,\n",
       "              'append': <method 'append' of 'list' objects>,\n",
       "              'insert': <method 'insert' of 'list' objects>,\n",
       "              'extend': <method 'extend' of 'list' objects>,\n",
       "              'pop': <method 'pop' of 'list' objects>,\n",
       "              'remove': <method 'remove' of 'list' objects>,\n",
       "              'index': <method 'index' of 'list' objects>,\n",
       "              'count': <method 'count' of 'list' objects>,\n",
       "              'reverse': <method 'reverse' of 'list' objects>,\n",
       "              'sort': <method 'sort' of 'list' objects>,\n",
       "              '__doc__': 'Built-in mutable sequence.\\n\\nIf no argument is given, the constructor creates a new empty list.\\nThe argument must be an iterable if specified.'})"
      ]
     },
     "execution_count": 13,
     "metadata": {},
     "output_type": "execute_result"
    }
   ],
   "source": [
    "list.__dict__"
   ]
  },
  {
   "cell_type": "code",
   "execution_count": 14,
   "metadata": {},
   "outputs": [],
   "source": [
    "def add(val1,val2):\n",
    "    temp=val1+val2\n",
    "    return(temp)"
   ]
  },
  {
   "cell_type": "code",
   "execution_count": 15,
   "metadata": {},
   "outputs": [
    {
     "name": "stdout",
     "output_type": "stream",
     "text": [
      "5\n"
     ]
    }
   ],
   "source": [
    "a=add(2,3)\n",
    "print(a)"
   ]
  },
  {
   "cell_type": "code",
   "execution_count": 1,
   "metadata": {},
   "outputs": [],
   "source": [
    "d1={\"Name\":\"Kush\",\"Marks\":{\"Maths\":90, \"Eng\": 100, \"Science\":80}}"
   ]
  },
  {
   "cell_type": "code",
   "execution_count": 17,
   "metadata": {},
   "outputs": [
    {
     "data": {
      "text/plain": [
       "{'Maths': 90, 'Eng': 100, 'Science': 80}"
      ]
     },
     "execution_count": 17,
     "metadata": {},
     "output_type": "execute_result"
    }
   ],
   "source": [
    "d1[\"Marks\"]"
   ]
  },
  {
   "cell_type": "code",
   "execution_count": 18,
   "metadata": {},
   "outputs": [
    {
     "name": "stdout",
     "output_type": "stream",
     "text": [
      "Eng\n"
     ]
    }
   ],
   "source": [
    "a=0\n",
    "for key,val in d1[\"Marks\"].items():\n",
    "    if a<val:\n",
    "        a=val\n",
    "        b=key\n",
    "print(b)"
   ]
  },
  {
   "cell_type": "code",
   "execution_count": 19,
   "metadata": {},
   "outputs": [
    {
     "ename": "TypeError",
     "evalue": "insert() takes exactly 2 arguments (0 given)",
     "output_type": "error",
     "traceback": [
      "\u001b[1;31m---------------------------------------------------------------------------\u001b[0m",
      "\u001b[1;31mTypeError\u001b[0m                                 Traceback (most recent call last)",
      "\u001b[1;32m<ipython-input-19-3879f9f02761>\u001b[0m in \u001b[0;36m<module>\u001b[1;34m()\u001b[0m\n\u001b[0;32m      1\u001b[0m \u001b[0mlist1\u001b[0m\u001b[1;33m=\u001b[0m\u001b[1;33m[\u001b[0m\u001b[1;36m1\u001b[0m\u001b[1;33m,\u001b[0m\u001b[1;36m2\u001b[0m\u001b[1;33m,\u001b[0m\u001b[1;36m3\u001b[0m\u001b[1;33m,\u001b[0m\u001b[1;36m4\u001b[0m\u001b[1;33m]\u001b[0m\u001b[1;33m\u001b[0m\u001b[0m\n\u001b[1;32m----> 2\u001b[1;33m \u001b[0mlist1\u001b[0m\u001b[1;33m.\u001b[0m\u001b[0minsert\u001b[0m\u001b[1;33m(\u001b[0m\u001b[1;33m)\u001b[0m\u001b[1;33m\u001b[0m\u001b[0m\n\u001b[0m",
      "\u001b[1;31mTypeError\u001b[0m: insert() takes exactly 2 arguments (0 given)"
     ]
    }
   ],
   "source": [
    "list1=[1,2,3,4]\n",
    "list1.insert()"
   ]
  },
  {
   "cell_type": "code",
   "execution_count": null,
   "metadata": {},
   "outputs": [],
   "source": [
    "list1"
   ]
  },
  {
   "cell_type": "code",
   "execution_count": null,
   "metadata": {},
   "outputs": [],
   "source": [
    "list1.remove(3)"
   ]
  },
  {
   "cell_type": "code",
   "execution_count": null,
   "metadata": {},
   "outputs": [],
   "source": [
    "list1"
   ]
  },
  {
   "cell_type": "code",
   "execution_count": null,
   "metadata": {},
   "outputs": [],
   "source": [
    "list1=[1,2,3,3,3,4]\n",
    "list1.remove(3)\n",
    "print(list1)"
   ]
  },
  {
   "cell_type": "code",
   "execution_count": null,
   "metadata": {},
   "outputs": [],
   "source": [
    "list1=[\"String\",2,6,9]\n",
    "iter1=iter(list1)\n"
   ]
  },
  {
   "cell_type": "code",
   "execution_count": null,
   "metadata": {},
   "outputs": [],
   "source": [
    "next(iter1)"
   ]
  },
  {
   "cell_type": "code",
   "execution_count": null,
   "metadata": {},
   "outputs": [],
   "source": [
    "while(True):\n",
    "    element=next(iter1)\n",
    "    print(element)\n"
   ]
  },
  {
   "cell_type": "code",
   "execution_count": null,
   "metadata": {},
   "outputs": [],
   "source": [
    "str1=\"Gaurav Garhewal\"\n",
    "iter2=iter(str1)"
   ]
  },
  {
   "cell_type": "code",
   "execution_count": null,
   "metadata": {},
   "outputs": [],
   "source": [
    "next(iter2)"
   ]
  },
  {
   "cell_type": "code",
   "execution_count": null,
   "metadata": {},
   "outputs": [],
   "source": [
    "tup1=(2,6,[1,2,3],6,8)\n",
    "iter3=iter(tup1)"
   ]
  },
  {
   "cell_type": "code",
   "execution_count": null,
   "metadata": {},
   "outputs": [],
   "source": [
    "next(iter3)"
   ]
  },
  {
   "cell_type": "code",
   "execution_count": null,
   "metadata": {},
   "outputs": [],
   "source": [
    "list1=[1,2,3,4]\n",
    "ritr = reversed(list1)"
   ]
  },
  {
   "cell_type": "code",
   "execution_count": null,
   "metadata": {},
   "outputs": [],
   "source": [
    "next(ritr)"
   ]
  },
  {
   "cell_type": "code",
   "execution_count": null,
   "metadata": {},
   "outputs": [],
   "source": [
    "a=float(input())\n",
    "print(a)"
   ]
  },
  {
   "cell_type": "code",
   "execution_count": null,
   "metadata": {},
   "outputs": [],
   "source": [
    "a=['20','56']\n",
    "b=int(a)"
   ]
  },
  {
   "cell_type": "code",
   "execution_count": null,
   "metadata": {},
   "outputs": [],
   "source": [
    "def add(val1,val2):\n",
    "    return(val1+val2)\n",
    "\n",
    "def mulp(val1,val2):\n",
    "    return(val1*val2)\n",
    "\n",
    "def equation(val1,val2,val3,val4):\n",
    "    return(add(val1,val2)+mulp(val3,val4))"
   ]
  },
  {
   "cell_type": "code",
   "execution_count": null,
   "metadata": {},
   "outputs": [],
   "source": [
    "equation(10,20,3,2)"
   ]
  },
  {
   "cell_type": "code",
   "execution_count": null,
   "metadata": {},
   "outputs": [],
   "source": [
    "def add1(a,b):\n",
    "    r=a+b\n",
    "    return r\n",
    "\n",
    "r= add1(10,20)\n",
    "print(r)"
   ]
  },
  {
   "cell_type": "code",
   "execution_count": null,
   "metadata": {},
   "outputs": [],
   "source": [
    "add2= lambda x,y:x+y\n",
    "\n",
    "r=add2(30,40)\n",
    "print(r)"
   ]
  },
  {
   "cell_type": "code",
   "execution_count": null,
   "metadata": {},
   "outputs": [],
   "source": [
    "add3= lambda x,y,z:x+y*z\n",
    "    \n",
    "r=add3(10,5,3)\n",
    "print(r)"
   ]
  },
  {
   "cell_type": "code",
   "execution_count": 1,
   "metadata": {},
   "outputs": [
    {
     "name": "stdout",
     "output_type": "stream",
     "text": [
      "False\n"
     ]
    }
   ],
   "source": [
    "checkoddeven= lambda x:x%2==0\n",
    "\n",
    "print(checkoddeven(25))"
   ]
  },
  {
   "cell_type": "code",
   "execution_count": 2,
   "metadata": {},
   "outputs": [
    {
     "name": "stdout",
     "output_type": "stream",
     "text": [
      "[2, 4, 6, 8, 10]\n"
     ]
    }
   ],
   "source": [
    "def double1(a):\n",
    "    return(a*2)\n",
    "\n",
    "list1=[1,2,3,4,5]\n",
    "\n",
    "list2=list(map(double1,list1))\n",
    "\n",
    "print(list2)"
   ]
  },
  {
   "cell_type": "code",
   "execution_count": null,
   "metadata": {},
   "outputs": [],
   "source": [
    "def triple3(a):\n",
    "    return(a*3)\n",
    "\n",
    "list1=[1,2,5,8,9,6,3]\n",
    "\n",
    "list2=list(map(triple3,list1))\n",
    "\n",
    "print(list2)"
   ]
  },
  {
   "cell_type": "code",
   "execution_count": 3,
   "metadata": {},
   "outputs": [
    {
     "name": "stdout",
     "output_type": "stream",
     "text": [
      "[3, 9, 18, 27, 15, 6]\n"
     ]
    }
   ],
   "source": [
    "def triple3(a):\n",
    "    return(a*3)\n",
    "\n",
    "tup1=(1,3,6,9,5,2)\n",
    "\n",
    "tup2=list(map(triple3,tup1))\n",
    "\n",
    "print(tup2)"
   ]
  },
  {
   "cell_type": "code",
   "execution_count": null,
   "metadata": {},
   "outputs": [],
   "source": [
    "def ifeven(x):\n",
    "    if x%2==0:\n",
    "        return(True)\n",
    "    else:\n",
    "        return(False)\n",
    "    \n",
    "list1=[1,2,3,4,5,6]\n",
    "\n",
    "listr=list(map(ifeven,list1))\n",
    "\n",
    "print(listr)"
   ]
  },
  {
   "cell_type": "code",
   "execution_count": 4,
   "metadata": {},
   "outputs": [
    {
     "name": "stdout",
     "output_type": "stream",
     "text": [
      "['She', 'is', 'in', 'her', \"40's\", 'but', 'behaves', 'as', 'if', 'she', 'is', 'a', 'teenager', 'who', 'is', '16!']\n"
     ]
    }
   ],
   "source": [
    "a=\"She is in her 40's but behaves as if she is a teenager who is 16!\"\n",
    "b=a.split(\" \")\n",
    "print(b)"
   ]
  },
  {
   "cell_type": "code",
   "execution_count": 5,
   "metadata": {},
   "outputs": [
    {
     "name": "stdout",
     "output_type": "stream",
     "text": [
      "6\n"
     ]
    }
   ],
   "source": [
    "a=\"Gaurav\"\n",
    "b=len(a)\n",
    "print(b)"
   ]
  },
  {
   "cell_type": "code",
   "execution_count": null,
   "metadata": {},
   "outputs": [],
   "source": [
    "def ifeven(x):\n",
    "    return(x%2==0)\n",
    "    \n",
    "list1=[1,2,3,4]\n",
    "\n",
    "listr=list(filter(ifeven,list1))\n",
    "\n",
    "print(listr)"
   ]
  },
  {
   "cell_type": "code",
   "execution_count": 6,
   "metadata": {},
   "outputs": [
    {
     "name": "stdout",
     "output_type": "stream",
     "text": [
      "[70, 90]\n"
     ]
    }
   ],
   "source": [
    "marks=[35,60,70,90,15,5]\n",
    "\n",
    "def greaterthan60(a):\n",
    "    return(a>60)\n",
    "\n",
    "list1=list(filter(greaterthan60,marks))\n",
    "print(list1)"
   ]
  },
  {
   "cell_type": "code",
   "execution_count": 7,
   "metadata": {},
   "outputs": [
    {
     "name": "stdout",
     "output_type": "stream",
     "text": [
      "['10000', '20000']\n"
     ]
    }
   ],
   "source": [
    "str1=\"TV 10000 WM 20000\"\n",
    "\n",
    "list1=str1.split(\" \")\n",
    "\n",
    "def isnumber(a):\n",
    "    return(a.isdigit())\n",
    "\n",
    "result=list(filter(isnumber,list1))\n",
    "print(result)"
   ]
  },
  {
   "cell_type": "code",
   "execution_count": 10,
   "metadata": {},
   "outputs": [
    {
     "name": "stdout",
     "output_type": "stream",
     "text": [
      "['10000', '20000']\n"
     ]
    }
   ],
   "source": [
    "str1=\"TV 10000 WM 20000\"\n",
    "\n",
    "list1=str1.split(\" \")\n",
    "\n",
    "isnumber=lambda a:a.isdigit()\n",
    "\n",
    "result=list(filter(isnumber,list1))\n",
    "print(result)"
   ]
  },
  {
   "cell_type": "code",
   "execution_count": null,
   "metadata": {},
   "outputs": [],
   "source": [
    "def function_c(c):\n",
    "    len1=len(c)\n",
    "    a=0\n",
    "    temp=[]\n",
    "    while(a<len1):\n",
    "        if c[a].isdigit():\n",
    "            temp.append(int(c[a]))\n",
    "        a+=1\n",
    "    return(temp)\n",
    "\n",
    "b=function_c(\"20fg\")\n",
    "print(b)"
   ]
  },
  {
   "cell_type": "code",
   "execution_count": null,
   "metadata": {},
   "outputs": [],
   "source": [
    "def function_b(val):\n",
    "    for i in val:\n",
    "        if i.isdigit():\n",
    "            print(\"Digit: \",i)\n",
    "        elif i.isalpha():\n",
    "            print()\n",
    "        else:\n",
    "            print(\"Through: \",i)\n",
    "    return\n",
    "\n",
    "b=['give', '23','26!','56','96']\n",
    "\n",
    "function_b(b)"
   ]
  },
  {
   "cell_type": "code",
   "execution_count": 11,
   "metadata": {},
   "outputs": [
    {
     "name": "stdout",
     "output_type": "stream",
     "text": [
      "19\n"
     ]
    }
   ],
   "source": [
    "from functools import reduce\n",
    "\n",
    "list1=[1,3,5,10]\n",
    "\n",
    "val=reduce(lambda x,y:x+y, list1)\n",
    "print(val)"
   ]
  },
  {
   "cell_type": "code",
   "execution_count": 12,
   "metadata": {},
   "outputs": [
    {
     "name": "stdout",
     "output_type": "stream",
     "text": [
      "63\n"
     ]
    }
   ],
   "source": [
    "def maximum(x,y):\n",
    "    if x>y:\n",
    "        return(x)\n",
    "    else:\n",
    "        return(y)\n",
    "    \n",
    "list1=[1,3,5,10,3,63,9,8,0]\n",
    "\n",
    "val=reduce(maximum,list1)\n",
    "print(val)"
   ]
  },
  {
   "cell_type": "code",
   "execution_count": null,
   "metadata": {},
   "outputs": [],
   "source": [
    "maximum= lambda x,y:max(x,y)\n",
    "\n",
    "maximum(5,9)"
   ]
  },
  {
   "cell_type": "code",
   "execution_count": null,
   "metadata": {},
   "outputs": [],
   "source": [
    "list1=[1,3,5,10,3,63,9,8,0]\n",
    "\n",
    "val=reduce(lambda x,y:max(x,y),list1)\n",
    "print(val)"
   ]
  },
  {
   "cell_type": "code",
   "execution_count": null,
   "metadata": {},
   "outputs": [],
   "source": [
    "max(10,20)"
   ]
  },
  {
   "cell_type": "code",
   "execution_count": null,
   "metadata": {},
   "outputs": [],
   "source": [
    "list1=range(55,101)\n",
    "\n",
    "val=reduce(lambda x,y:x+y,list1)\n",
    "\n",
    "print(val)"
   ]
  },
  {
   "cell_type": "code",
   "execution_count": null,
   "metadata": {},
   "outputs": [],
   "source": [
    "list1=['3','4']\n"
   ]
  },
  {
   "cell_type": "code",
   "execution_count": null,
   "metadata": {},
   "outputs": [],
   "source": [
    "print(list2)"
   ]
  },
  {
   "cell_type": "code",
   "execution_count": 6,
   "metadata": {},
   "outputs": [
    {
     "name": "stdout",
     "output_type": "stream",
     "text": [
      "7\n"
     ]
    }
   ],
   "source": [
    "from functools import reduce\n",
    "\n",
    "list1=['hello','1','world','2','hi','4']\n",
    "\n",
    "isnumber= lambda x: x.isdigit()\n",
    "\n",
    "var1=list(filter(isnumber,list1))\n",
    "\n",
    "var2=list(map(lambda a: int(a),var1))\n",
    "\n",
    "val=reduce(lambda x,y:x+y,var2)\n",
    "\n",
    "print(val)\n"
   ]
  },
  {
   "cell_type": "code",
   "execution_count": null,
   "metadata": {},
   "outputs": [],
   "source": []
  }
 ],
 "metadata": {
  "kernelspec": {
   "display_name": "Python 3",
   "language": "python",
   "name": "python3"
  },
  "language_info": {
   "codemirror_mode": {
    "name": "ipython",
    "version": 3
   },
   "file_extension": ".py",
   "mimetype": "text/x-python",
   "name": "python",
   "nbconvert_exporter": "python",
   "pygments_lexer": "ipython3",
   "version": "3.7.0"
  }
 },
 "nbformat": 4,
 "nbformat_minor": 2
}
