{
 "cells": [
  {
   "cell_type": "code",
   "execution_count": 1,
   "metadata": {},
   "outputs": [],
   "source": [
    "from pandas import read_csv\n",
    "from sklearn.utils import resample\n",
    "from sklearn.tree import DecisionTreeClassifier\n",
    "from sklearn.metrics import accuracy_score\n",
    "from matplotlib import pyplot\n",
    "import numpy as np\n",
    "\n",
    "# load dataset\n",
    "data = read_csv('pima-indians-diabetes.data', header=None)\n",
    "values = data.values\n"
   ]
  },
  {
   "cell_type": "code",
   "execution_count": 5,
   "metadata": {},
   "outputs": [
    {
     "name": "stdout",
     "output_type": "stream",
     "text": [
      "0.7021276595744681\n",
      "0.6828752642706131\n",
      "0.665938864628821\n",
      "0.6772823779193206\n",
      "0.7063829787234043\n",
      "0.6852248394004282\n",
      "0.7152173913043478\n",
      "0.6351648351648351\n",
      "0.6594360086767896\n",
      "0.6723404255319149\n",
      "0.6957446808510638\n",
      "0.7045951859956237\n",
      "0.6631578947368421\n",
      "0.6926315789473684\n",
      "0.700218818380744\n",
      "0.6896551724137931\n",
      "0.6738197424892703\n",
      "0.6836518046709129\n",
      "0.702355460385439\n",
      "0.6695464362850972\n",
      "0.7019867549668874\n",
      "0.6723768736616702\n",
      "0.6723768736616702\n",
      "0.7123893805309734\n",
      "0.6681034482758621\n",
      "0.6573875802997858\n",
      "0.6680761099365751\n",
      "0.6709677419354839\n",
      "0.6790393013100436\n",
      "0.7055084745762712\n",
      "0.7115384615384616\n",
      "0.6918238993710691\n",
      "0.709051724137931\n",
      "0.709051724137931\n",
      "0.6932773109243697\n",
      "0.7036247334754797\n",
      "0.6904761904761905\n",
      "0.7142857142857143\n",
      "0.7115384615384616\n",
      "0.6553191489361702\n",
      "0.6899563318777293\n",
      "0.697228144989339\n",
      "0.6586433260393874\n",
      "0.7505422993492408\n",
      "0.732484076433121\n",
      "0.6388888888888888\n",
      "0.6808510638297872\n",
      "0.6931330472103004\n",
      "0.7049891540130152\n",
      "0.6666666666666666\n",
      "0.6780383795309168\n",
      "0.6963906581740976\n",
      "0.6869565217391305\n",
      "0.6680851063829787\n",
      "0.7034632034632035\n",
      "0.6459227467811158\n",
      "0.7096069868995634\n",
      "0.6481876332622601\n",
      "0.6601731601731602\n",
      "0.6984815618221258\n",
      "0.6607538802660754\n",
      "0.6434599156118144\n",
      "0.7303609341825902\n",
      "0.6937901498929336\n",
      "0.7349137931034483\n",
      "0.6617021276595745\n",
      "0.7191489361702128\n",
      "0.6853448275862069\n",
      "0.6914660831509847\n",
      "0.7248908296943232\n",
      "0.7127659574468085\n",
      "0.6544276457883369\n",
      "0.697228144989339\n",
      "0.7261146496815286\n",
      "0.6547368421052632\n",
      "0.6889848812095032\n",
      "0.6769911504424779\n",
      "0.6857142857142857\n",
      "0.6934782608695652\n",
      "0.6969026548672567\n",
      "0.6934782608695652\n",
      "0.697228144989339\n",
      "0.6826722338204593\n",
      "0.7082452431289641\n",
      "0.7019027484143763\n",
      "0.6805845511482255\n",
      "0.6616702355460385\n",
      "0.6845493562231759\n",
      "0.6929637526652452\n",
      "0.6936170212765957\n",
      "0.6751592356687898\n",
      "0.703862660944206\n",
      "0.683083511777302\n",
      "0.6531049250535332\n",
      "0.703862660944206\n",
      "0.7316017316017316\n",
      "0.6708860759493671\n",
      "0.7012987012987013\n",
      "0.6932773109243697\n",
      "0.6754385964912281\n"
     ]
    }
   ],
   "source": [
    "# configure bootstrap\n",
    "n_iterations = 100              # Number of bootstrap samples to create\n",
    "n_size = int(len(data) * 0.50)    # picking only 50 % of the given data in every bootstrap sample\n",
    "\n",
    "# run bootstrap\n",
    "stats = list()\n",
    "for i in range(n_iterations):\n",
    "\t# prepare train and test sets\n",
    "\ttrain = resample(values, n_samples=n_size)  # Sampling with replacement \n",
    "\ttest = np.array([x for x in values if x.tolist() not in train.tolist()])  # picking rest of the data not considered in sample\n",
    "    # fit model\n",
    "\tmodel = DecisionTreeClassifier()\n",
    "\tmodel.fit(train[:,:-1], train[:,-1])\n",
    "    # evaluate model\n",
    "\tpredictions = model.predict(test[:,:-1])\n",
    "\tscore = accuracy_score(test[:,-1], predictions)    # caution, overall accuracy score can mislead when classes are imbalanced\n",
    "\tprint(score)\n",
    "\tstats.append(score)\n"
   ]
  },
  {
   "cell_type": "code",
   "execution_count": 6,
   "metadata": {},
   "outputs": [
    {
     "data": {
      "image/png": "[encoded data removed]",
      "text/plain": [
       "<Figure size 432x288 with 1 Axes>"
      ]
     },
     "metadata": {
      "needs_background": "light"
     },
     "output_type": "display_data"
    },
    {
     "name": "stdout",
     "output_type": "stream",
     "text": [
      "95.0 confidence interval 64.5% and 73.2%\n"
     ]
    }
   ],
   "source": [
    "# plot scores\n",
    "pyplot.hist(stats)\n",
    "pyplot.show()\n",
    "# confidence intervals\n",
    "alpha = 0.95                             # for 95% confidence \n",
    "p = ((1.0-alpha)/2.0) * 100              # tail regions on right and left .25 on each side indicated by P value (border)\n",
    "lower = max(0.0, np.percentile(stats, p))  \n",
    "p = (alpha+((1.0-alpha)/2.0)) * 100\n",
    "upper = min(1.0, np.percentile(stats, p))\n",
    "print('%.1f confidence interval %.1f%% and %.1f%%' % (alpha*100, lower*100, upper*100))"
   ]
  },
  {
   "cell_type": "code",
   "execution_count": 3,
   "metadata": {},
   "outputs": [
    {
     "data": {
      "text/plain": [
       "(768, 9)"
      ]
     },
     "execution_count": 3,
     "metadata": {},
     "output_type": "execute_result"
    }
   ],
   "source": [
    "data.shape"
   ]
  },
  {
   "cell_type": "code",
   "execution_count": null,
   "metadata": {},
   "outputs": [],
   "source": []
  }
 ],
 "metadata": {
  "kernelspec": {
   "display_name": "Python 3",
   "language": "python",
   "name": "python3"
  },
  "language_info": {
   "codemirror_mode": {
    "name": "ipython",
    "version": 3
   },
   "file_extension": ".py",
   "mimetype": "text/x-python",
   "name": "python",
   "nbconvert_exporter": "python",
   "pygments_lexer": "ipython3",
   "version": "3.7.0"
  }
 },
 "nbformat": 4,
 "nbformat_minor": 2
}
