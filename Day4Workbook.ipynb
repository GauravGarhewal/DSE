{
 "cells": [
  {
   "cell_type": "code",
   "execution_count": 9,
   "metadata": {},
   "outputs": [
    {
     "name": "stdout",
     "output_type": "stream",
     "text": [
      "40\n",
      "16\n",
      "56\n",
      "98\n"
     ]
    }
   ],
   "source": [
    "def function_d(d):\n",
    "    print(d)\n",
    "    return\n",
    "\n",
    "def function_c(c):\n",
    "    len1=len(c)\n",
    "    a=0\n",
    "    t=''\n",
    "    temp=[]\n",
    "    while(a<len1):\n",
    "        if c[a].isdigit():\n",
    "            temp.append(c[a])\n",
    "            t=t+temp[a]\n",
    "        a+=1\n",
    "    temp3=[t]\n",
    "    function_b(temp3)\n",
    "   \n",
    "            \n",
    "    \n",
    "    \n",
    "def function_b(b):\n",
    "    for i in b:\n",
    "        if i.isdigit():\n",
    "            function_d(i)\n",
    "        elif i.isalpha():\n",
    "            continue\n",
    "        else:\n",
    "            function_c(i)\n",
    "    return\n",
    "        \n",
    "    \n",
    "def  function_a(a):\n",
    "    list1=a.split(\" \")\n",
    "    function_b(list1)\n",
    "    return\n",
    "\n",
    "\n",
    "b=\"She is in her 40's but behaves as if she is a teenager who is 16! 56 98lo\"\n",
    "\n",
    "function_a(b)"
   ]
  },
  {
   "cell_type": "code",
   "execution_count": 11,
   "metadata": {},
   "outputs": [
    {
     "name": "stdout",
     "output_type": "stream",
     "text": [
      "Mode of the list is :  {40, 50}\n"
     ]
    },
    {
     "data": {
      "text/plain": [
       "[50, 40, 40, 50, 50, 40, 40, 50]"
      ]
     },
     "execution_count": 11,
     "metadata": {},
     "output_type": "execute_result"
    }
   ],
   "source": [
    "list1=[45,50,43,60,56,48,10,15,20,19,60,40,40,43,50,50,65,70,75,80,13,40,40,50]\n",
    "\n",
    "countval= lambda a: list1.count(a)\n",
    "\n",
    "list2=list(map(countval,list1))\n",
    "\n",
    "temp=0\n",
    "for i in range(len(list2)):\n",
    "    if temp<list2[i]:\n",
    "        temp=list2[i]\n",
    "        indexnumber=i\n",
    "\n",
    "temp=[]\n",
    "for i in range(len(list2)):\n",
    "    if list2[indexnumber]==list2[i]:\n",
    "        temp.append(list1[i])\n",
    "        \n",
    "print(\"Mode of the list is : \", set(temp))  \n",
    "    \n",
    "temp"
   ]
  },
  {
   "cell_type": "code",
   "execution_count": 3,
   "metadata": {},
   "outputs": [
    {
     "data": {
      "text/plain": [
       "1"
      ]
     },
     "execution_count": 3,
     "metadata": {},
     "output_type": "execute_result"
    }
   ],
   "source": [
    "list1.count(45)"
   ]
  },
  {
   "cell_type": "code",
   "execution_count": 4,
   "metadata": {},
   "outputs": [
    {
     "data": {
      "text/plain": [
       "3"
      ]
     },
     "execution_count": 4,
     "metadata": {},
     "output_type": "execute_result"
    }
   ],
   "source": [
    "max(list2)"
   ]
  },
  {
   "cell_type": "code",
   "execution_count": 12,
   "metadata": {},
   "outputs": [
    {
     "name": "stdout",
     "output_type": "stream",
     "text": [
      "100\n",
      "200\n"
     ]
    }
   ],
   "source": [
    "list1=[\"String1\",\"100\",\"String2\",\"200\",\"String3\"]\n",
    "\n",
    "for item in list1:\n",
    "    if not(item.isdigit()):\n",
    "        continue\n",
    "    print(item)"
   ]
  },
  {
   "cell_type": "code",
   "execution_count": 13,
   "metadata": {},
   "outputs": [],
   "source": [
    "l=45.5\n"
   ]
  },
  {
   "cell_type": "code",
   "execution_count": 14,
   "metadata": {},
   "outputs": [],
   "source": [
    "p=l.is_integer()"
   ]
  },
  {
   "cell_type": "code",
   "execution_count": 15,
   "metadata": {},
   "outputs": [
    {
     "name": "stdout",
     "output_type": "stream",
     "text": [
      "False\n"
     ]
    }
   ],
   "source": [
    "print(p)"
   ]
  },
  {
   "cell_type": "code",
   "execution_count": 16,
   "metadata": {},
   "outputs": [
    {
     "name": "stdout",
     "output_type": "stream",
     "text": [
      "200\n",
      "100\n"
     ]
    }
   ],
   "source": [
    "x=100\n",
    "\n",
    "def fun():\n",
    "    x=200\n",
    "    print(x)\n",
    "\n",
    "fun()\n",
    "\n",
    "print(x)"
   ]
  },
  {
   "cell_type": "code",
   "execution_count": 17,
   "metadata": {},
   "outputs": [
    {
     "name": "stdout",
     "output_type": "stream",
     "text": [
      "100\n",
      "200\n"
     ]
    }
   ],
   "source": [
    "x=100\n",
    "\n",
    "def fun():\n",
    "    global x\n",
    "    print(x)\n",
    "    x=200\n",
    "\n",
    "fun()\n",
    "\n",
    "print(x)"
   ]
  },
  {
   "cell_type": "code",
   "execution_count": 11,
   "metadata": {},
   "outputs": [
    {
     "name": "stdout",
     "output_type": "stream",
     "text": [
      "Python 3.7\n",
      "Python 3.7\n"
     ]
    }
   ],
   "source": [
    "version=\"Python\"\n",
    "\n",
    "def fun_update_version(val):\n",
    "    global version\n",
    "    version=version+\" \"+str(val)\n",
    "\n",
    "fun_update_version(3.7)\n",
    "\n",
    "print(version)\n",
    "\n",
    "def print_version():\n",
    "    global version\n",
    "    print(version)\n",
    "\n",
    "print_version()"
   ]
  },
  {
   "cell_type": "code",
   "execution_count": 12,
   "metadata": {},
   "outputs": [
    {
     "name": "stdout",
     "output_type": "stream",
     "text": [
      "None\n"
     ]
    }
   ],
   "source": [
    "l1=[1,2,3]\n",
    "l2=[3,4,5]\n",
    "\n",
    "l3=l1.append(l2)\n",
    "print(l3)"
   ]
  },
  {
   "cell_type": "code",
   "execution_count": 13,
   "metadata": {},
   "outputs": [
    {
     "name": "stdout",
     "output_type": "stream",
     "text": [
      "{1, 2, 3, 4, 5, 6, 7, 8}\n"
     ]
    }
   ],
   "source": [
    "a={4,2,3,5,7,8,1,6,1}\n",
    "print(a)"
   ]
  },
  {
   "cell_type": "code",
   "execution_count": 14,
   "metadata": {},
   "outputs": [
    {
     "name": "stdout",
     "output_type": "stream",
     "text": [
      "{4}\n",
      "{1, 2, 3, 4, 5, 6}\n",
      "{1, 2, 3}\n",
      "{5, 6}\n",
      "{1, 2, 3, 5, 6}\n"
     ]
    }
   ],
   "source": [
    "set1={1,2,3,4}\n",
    "set2={4,5,6}\n",
    "\n",
    "#to find intersetion\n",
    "\n",
    "result= set1 & set2\n",
    "\n",
    "print(result)\n",
    "\n",
    "#to find union\n",
    "\n",
    "result= set1 | set2\n",
    "\n",
    "print(result)\n",
    "\n",
    "#subtract\n",
    "\n",
    "result3=set1-set2\n",
    "print(result3)\n",
    "\n",
    "result4=set2-set1\n",
    "print(result4)\n",
    "\n",
    "result5=(set1-set2)|(set2-set1)\n",
    "print(result5)\n"
   ]
  },
  {
   "cell_type": "code",
   "execution_count": 15,
   "metadata": {},
   "outputs": [
    {
     "data": {
      "text/plain": [
       "set"
      ]
     },
     "execution_count": 15,
     "metadata": {},
     "output_type": "execute_result"
    }
   ],
   "source": [
    "type(set1)"
   ]
  },
  {
   "cell_type": "code",
   "execution_count": 16,
   "metadata": {},
   "outputs": [
    {
     "name": "stdout",
     "output_type": "stream",
     "text": [
      "{1, 2, 3, 4}\n"
     ]
    }
   ],
   "source": [
    "list1=[1,2,3,4,1,2]\n",
    "set1=set(list1)\n",
    "\n",
    "print(set1)"
   ]
  },
  {
   "cell_type": "code",
   "execution_count": 17,
   "metadata": {},
   "outputs": [
    {
     "name": "stdout",
     "output_type": "stream",
     "text": [
      "{'Ram'}\n"
     ]
    }
   ],
   "source": [
    "l1={\"Ram\",\"David\",\"Raheem\"}\n",
    "l2={\"Lakhan\",\"Ram\"}\n",
    "\n",
    "result=l1 & l2\n",
    "\n",
    "print(result)"
   ]
  },
  {
   "cell_type": "code",
   "execution_count": 18,
   "metadata": {},
   "outputs": [
    {
     "name": "stdout",
     "output_type": "stream",
     "text": [
      "[1 2 3 4 5]\n"
     ]
    }
   ],
   "source": [
    "import numpy\n",
    "\n",
    "array1= numpy.array([1,2,3,4,5])\n",
    "\n",
    "print(array1)"
   ]
  },
  {
   "cell_type": "code",
   "execution_count": 37,
   "metadata": {},
   "outputs": [
    {
     "name": "stdout",
     "output_type": "stream",
     "text": [
      "[5 6 3]\n"
     ]
    }
   ],
   "source": [
    "import numpy as np\n",
    "\n",
    "array2=np.array([5,6,3])\n",
    "\n",
    "print(array2)"
   ]
  },
  {
   "cell_type": "code",
   "execution_count": 26,
   "metadata": {},
   "outputs": [
    {
     "name": "stdout",
     "output_type": "stream",
     "text": [
      "[1, 2, 3, 4, 5, 6]\n"
     ]
    }
   ],
   "source": [
    "list1=[1,2,3]\n",
    "list2=[4,5,6]\n",
    "\n",
    "list3=list1+list2\n",
    "\n",
    "print(list3)"
   ]
  },
  {
   "cell_type": "code",
   "execution_count": 27,
   "metadata": {},
   "outputs": [
    {
     "name": "stdout",
     "output_type": "stream",
     "text": [
      "[5 7 9]\n"
     ]
    }
   ],
   "source": [
    "list1=np.array([1,2,3])\n",
    "list2=np.array([4,5,6])\n",
    "\n",
    "list3=list1+list2\n",
    "\n",
    "print(list3)"
   ]
  },
  {
   "cell_type": "code",
   "execution_count": 42,
   "metadata": {},
   "outputs": [
    {
     "name": "stdout",
     "output_type": "stream",
     "text": [
      "[[1 2 3]\n",
      " [4 5 6]\n",
      " [7 8 9]]\n"
     ]
    }
   ],
   "source": [
    "import numpy as np\n",
    "\n",
    "mat1=np.array(([1,2,3],[4,5,6],[7,8,9]))\n",
    "\n",
    "print(mat1)"
   ]
  },
  {
   "cell_type": "code",
   "execution_count": 43,
   "metadata": {},
   "outputs": [
    {
     "data": {
      "text/plain": [
       "8"
      ]
     },
     "execution_count": 43,
     "metadata": {},
     "output_type": "execute_result"
    }
   ],
   "source": [
    "mat1[2][1]"
   ]
  },
  {
   "cell_type": "code",
   "execution_count": 44,
   "metadata": {},
   "outputs": [
    {
     "name": "stdout",
     "output_type": "stream",
     "text": [
      "[[ 5 12]\n",
      " [21 32]]\n"
     ]
    }
   ],
   "source": [
    "mat1=np.array(([1,2],[3,4]))\n",
    "mat2=np.array(([5,6],[7,8]))\n",
    "\n",
    "print(np.multiply(mat1,mat2))"
   ]
  },
  {
   "cell_type": "code",
   "execution_count": 45,
   "metadata": {},
   "outputs": [
    {
     "name": "stdout",
     "output_type": "stream",
     "text": [
      "[[ 5 10 15]\n",
      " [20 25 30]\n",
      " [35 40 45]]\n"
     ]
    }
   ],
   "source": [
    "mat1=np.array(([1,2,3],[4,5,6],[7,8,9]))\n",
    "\n",
    "print(mat1*5)"
   ]
  },
  {
   "cell_type": "code",
   "execution_count": 47,
   "metadata": {},
   "outputs": [
    {
     "name": "stdout",
     "output_type": "stream",
     "text": [
      "[[19 22]\n",
      " [43 50]]\n"
     ]
    }
   ],
   "source": [
    "mat1=np.array(([1,2],[3,4]))\n",
    "mat2=np.array(([5,6],[7,8]))\n",
    "\n",
    "print(np.matmul(mat1,mat2))"
   ]
  },
  {
   "cell_type": "code",
   "execution_count": 48,
   "metadata": {},
   "outputs": [
    {
     "data": {
      "text/plain": [
       "28"
      ]
     },
     "execution_count": 48,
     "metadata": {},
     "output_type": "execute_result"
    }
   ],
   "source": [
    "import sys\n",
    "\n",
    "a=10\n",
    "\n",
    "sys.getsizeof(a)"
   ]
  },
  {
   "cell_type": "code",
   "execution_count": 49,
   "metadata": {},
   "outputs": [
    {
     "data": {
      "text/plain": [
       "96"
      ]
     },
     "execution_count": 49,
     "metadata": {},
     "output_type": "execute_result"
    }
   ],
   "source": [
    "list1=[1,2,3,4]\n",
    "\n",
    "sys.getsizeof(list1)"
   ]
  },
  {
   "cell_type": "code",
   "execution_count": 55,
   "metadata": {},
   "outputs": [
    {
     "data": {
      "text/plain": [
       "112"
      ]
     },
     "execution_count": 55,
     "metadata": {},
     "output_type": "execute_result"
    }
   ],
   "source": [
    "list1=[1,2,3,4]\n",
    "\n",
    "sys.getsizeof(list1[0])*len(list1)"
   ]
  },
  {
   "cell_type": "code",
   "execution_count": 56,
   "metadata": {},
   "outputs": [
    {
     "data": {
      "text/plain": [
       "9112"
      ]
     },
     "execution_count": 56,
     "metadata": {},
     "output_type": "execute_result"
    }
   ],
   "source": [
    "list2=list(range(1000))\n",
    "\n",
    "sys.getsizeof(list2)"
   ]
  },
  {
   "cell_type": "code",
   "execution_count": 79,
   "metadata": {},
   "outputs": [
    {
     "data": {
      "text/plain": [
       "2400000"
      ]
     },
     "execution_count": 79,
     "metadata": {},
     "output_type": "execute_result"
    }
   ],
   "source": [
    "list2=list(range(100000))\n",
    "\n",
    "sys.getsizeof(list2[0])*len(list2)"
   ]
  },
  {
   "cell_type": "code",
   "execution_count": 82,
   "metadata": {},
   "outputs": [
    {
     "data": {
      "text/plain": [
       "28"
      ]
     },
     "execution_count": 82,
     "metadata": {},
     "output_type": "execute_result"
    }
   ],
   "source": [
    "array1=np.arange(100000)\n",
    "\n",
    "sys.getsizeof(array1[0])"
   ]
  },
  {
   "cell_type": "code",
   "execution_count": 77,
   "metadata": {},
   "outputs": [
    {
     "data": {
      "text/plain": [
       "100000"
      ]
     },
     "execution_count": 77,
     "metadata": {},
     "output_type": "execute_result"
    }
   ],
   "source": [
    "array1.size"
   ]
  },
  {
   "cell_type": "code",
   "execution_count": 83,
   "metadata": {},
   "outputs": [
    {
     "data": {
      "text/plain": [
       "4"
      ]
     },
     "execution_count": 83,
     "metadata": {},
     "output_type": "execute_result"
    }
   ],
   "source": [
    "array1.itemsize"
   ]
  },
  {
   "cell_type": "code",
   "execution_count": 75,
   "metadata": {},
   "outputs": [
    {
     "data": {
      "text/plain": [
       "64"
      ]
     },
     "execution_count": 75,
     "metadata": {},
     "output_type": "execute_result"
    }
   ],
   "source": [
    "list1=[]\n",
    "sys.getsizeof(list1)"
   ]
  },
  {
   "cell_type": "code",
   "execution_count": 86,
   "metadata": {},
   "outputs": [
    {
     "name": "stdout",
     "output_type": "stream",
     "text": [
      "1542265217.95093\n"
     ]
    }
   ],
   "source": [
    "import time\n",
    "start=time.time()\n",
    "print(start)\n",
    "list2=list(range(1000))\n",
    "\n"
   ]
  },
  {
   "cell_type": "code",
   "execution_count": 93,
   "metadata": {},
   "outputs": [
    {
     "name": "stdout",
     "output_type": "stream",
     "text": [
      "(1000,)\n",
      "(10, 10, 10)\n"
     ]
    }
   ],
   "source": [
    "arr1=np.arange(1000)\n",
    "print(arr1.shape)\n",
    "arr2=arr1.reshape(10,10,10)\n",
    "print(arr2.shape)"
   ]
  },
  {
   "cell_type": "code",
   "execution_count": 102,
   "metadata": {},
   "outputs": [],
   "source": [
    "list1=[1,2,3,4,6]\n",
    "itervar= iter(list1)"
   ]
  },
  {
   "cell_type": "code",
   "execution_count": 105,
   "metadata": {},
   "outputs": [
    {
     "data": {
      "text/plain": [
       "1"
      ]
     },
     "execution_count": 105,
     "metadata": {},
     "output_type": "execute_result"
    }
   ],
   "source": [
    "next(itervar)"
   ]
  },
  {
   "cell_type": "code",
   "execution_count": 106,
   "metadata": {},
   "outputs": [
    {
     "data": {
      "text/plain": [
       "2"
      ]
     },
     "execution_count": 106,
     "metadata": {},
     "output_type": "execute_result"
    }
   ],
   "source": [
    "next(itervar)"
   ]
  },
  {
   "cell_type": "code",
   "execution_count": 107,
   "metadata": {},
   "outputs": [
    {
     "data": {
      "text/plain": [
       "55"
      ]
     },
     "execution_count": 107,
     "metadata": {},
     "output_type": "execute_result"
    }
   ],
   "source": [
    "dict1={45:55,85:89}\n",
    "dict1[45]"
   ]
  },
  {
   "cell_type": "code",
   "execution_count": 108,
   "metadata": {},
   "outputs": [
    {
     "data": {
      "text/plain": [
       "89"
      ]
     },
     "execution_count": 108,
     "metadata": {},
     "output_type": "execute_result"
    }
   ],
   "source": [
    "dict1.get(56,89)"
   ]
  },
  {
   "cell_type": "code",
   "execution_count": 109,
   "metadata": {},
   "outputs": [
    {
     "data": {
      "text/plain": [
       "{45: 55, 85: 89}"
      ]
     },
     "execution_count": 109,
     "metadata": {},
     "output_type": "execute_result"
    }
   ],
   "source": [
    "dict1"
   ]
  },
  {
   "cell_type": "code",
   "execution_count": 114,
   "metadata": {},
   "outputs": [
    {
     "name": "stdout",
     "output_type": "stream",
     "text": [
      "{1: 4, 2: 5, 3: 6, 4: 7}\n"
     ]
    }
   ],
   "source": [
    "list1=[1,2,3,4]\n",
    "list2=[4,5,6,7]\n",
    "dict1={}\n",
    "\n",
    "for i in range(len(list1)):\n",
    "    dict1[list1[i]]=list2[i]\n",
    "\n",
    "print(dict1)  "
   ]
  },
  {
   "cell_type": "code",
   "execution_count": 116,
   "metadata": {},
   "outputs": [
    {
     "name": "stdout",
     "output_type": "stream",
     "text": [
      "The four values are: \n",
      " 1 \n",
      " 4 \n",
      " 9 \n",
      " 12\n"
     ]
    }
   ],
   "source": [
    "arr1=np.array([[1,2,3,4],[5,6,7,8],[9,10,11,12]])\n",
    "\n",
    "var=arr1.shape\n",
    "row1=int(var[0])-1\n",
    "row2=int(var[1])-1\n",
    "\n",
    "print(\"The four values are: \\n\", arr1[0][0],\"\\n\",arr1[0][row2],\"\\n\",arr1[row1][0],\"\\n\",arr1[row1][row2])"
   ]
  },
  {
   "cell_type": "code",
   "execution_count": 21,
   "metadata": {},
   "outputs": [
    {
     "name": "stdout",
     "output_type": "stream",
     "text": [
      "The input sudoku query is :\n",
      "\n",
      " [[2 0 1 0]\n",
      " [1 0 2 3]\n",
      " [4 1 0 2]\n",
      " [0 2 0 1]]\n",
      "\n",
      "The result of the above query is:\n",
      "\n",
      " [[2 0 1 4]\n",
      " [1 4 2 3]\n",
      " [4 1 3 2]\n",
      " [3 2 4 1]]\n"
     ]
    }
   ],
   "source": [
    "import numpy as np\n",
    "\n",
    "sud=np.array([[2,0,1,0],[1,0,2,3],[4,1,0,2],[0,2,0,1]])\n",
    "\n",
    "print(\"The input sudoku query is :\\n\\n\",sud)\n",
    "\n",
    "temp=sud.shape\n",
    "length=temp[0]\n",
    "\n",
    "def sudsol(sud):\n",
    "    for i in range(length):\n",
    "        for j in range(length):\n",
    "            if sud[i][j]==0:\n",
    "                temp1=1\n",
    "                temp2=1\n",
    "                count=[]\n",
    "                for k in range(length):\n",
    "                    if sud[i][k]!=0:\n",
    "                        count.insert(0,(sud[i][k]))\n",
    "                    if sud[k][j]!=0:\n",
    "                        count.insert(0,(sud[k][j]))\n",
    "                set1=set(count)\n",
    "                set2={1,2,3,4}\n",
    "                if len(set1)>=4:\n",
    "                    print(\"Error in the row: \",i,\"\\n and the column: \",j)\n",
    "                elif len(set1)==3:\n",
    "                    set3=set2-set1\n",
    "                    templist=list(set3)\n",
    "                    sud[i][j]=templist[0]\n",
    "                else:\n",
    "                    continue\n",
    "    return\n",
    "\n",
    "\n",
    "sudsol(sud)\n",
    "\n",
    "print(\"\\nThe result of the above query is:\\n\\n\",sud)\n",
    "\n"
   ]
  },
  {
   "cell_type": "code",
   "execution_count": 16,
   "metadata": {},
   "outputs": [
    {
     "name": "stdout",
     "output_type": "stream",
     "text": [
      "\n",
      "The result of the above query is:\n",
      "\n",
      " [[2 3 1 4]\n",
      " [1 4 2 3]\n",
      " [4 1 3 2]\n",
      " [3 2 4 1]]\n"
     ]
    }
   ],
   "source": [
    "for i in range(length):\n",
    "    for j in range(length):\n",
    "        if sud[i][j]==0:\n",
    "            temp1=1\n",
    "            temp2=1\n",
    "            count=[]\n",
    "            for k in range(length):\n",
    "                if sud[i][k]!=0:\n",
    "                    count.insert(0,(sud[i][k]))\n",
    "                if sud[k][j]!=0:\n",
    "                    count.insert(0,(sud[k][j]))\n",
    "            set1=set(count)\n",
    "            set2={1,2,3,4}\n",
    "            if len(set1)==4:\n",
    "                print(\"Error in the row: \",i,\"\\n and the column: \",j)\n",
    "            elif len(set1)==3:\n",
    "                set3=set2-set1\n",
    "                templist=list(set3)\n",
    "                sud[i][j]=templist[0]\n",
    "            else:\n",
    "                continue\n",
    "                    \n",
    "print(\"\\nThe result of the above query is:\\n\\n\",sud)"
   ]
  },
  {
   "cell_type": "code",
   "execution_count": 1,
   "metadata": {},
   "outputs": [],
   "source": [
    "l1=[1,2,3]"
   ]
  },
  {
   "cell_type": "code",
   "execution_count": 3,
   "metadata": {},
   "outputs": [],
   "source": [
    "l1.clear()"
   ]
  },
  {
   "cell_type": "code",
   "execution_count": 4,
   "metadata": {},
   "outputs": [
    {
     "data": {
      "text/plain": [
       "[]"
      ]
     },
     "execution_count": 4,
     "metadata": {},
     "output_type": "execute_result"
    }
   ],
   "source": [
    "l1"
   ]
  },
  {
   "cell_type": "code",
   "execution_count": 5,
   "metadata": {},
   "outputs": [
    {
     "ename": "NameError",
     "evalue": "name 'np' is not defined",
     "output_type": "error",
     "traceback": [
      "\u001b[1;31m---------------------------------------------------------------------------\u001b[0m",
      "\u001b[1;31mNameError\u001b[0m                                 Traceback (most recent call last)",
      "\u001b[1;32m<ipython-input-5-8041c142f3b9>\u001b[0m in \u001b[0;36m<module>\u001b[1;34m()\u001b[0m\n\u001b[1;32m----> 1\u001b[1;33m \u001b[0msud\u001b[0m\u001b[1;33m=\u001b[0m\u001b[0mnp\u001b[0m\u001b[1;33m.\u001b[0m\u001b[0marray\u001b[0m\u001b[1;33m(\u001b[0m\u001b[1;33m[\u001b[0m\u001b[1;33m[\u001b[0m\u001b[1;36m2\u001b[0m\u001b[1;33m,\u001b[0m\u001b[1;36m0\u001b[0m\u001b[1;33m,\u001b[0m\u001b[1;36m1\u001b[0m\u001b[1;33m,\u001b[0m\u001b[1;36m0\u001b[0m\u001b[1;33m]\u001b[0m\u001b[1;33m,\u001b[0m\u001b[1;33m[\u001b[0m\u001b[1;36m1\u001b[0m\u001b[1;33m,\u001b[0m\u001b[1;36m0\u001b[0m\u001b[1;33m,\u001b[0m\u001b[1;36m2\u001b[0m\u001b[1;33m,\u001b[0m\u001b[1;36m3\u001b[0m\u001b[1;33m]\u001b[0m\u001b[1;33m,\u001b[0m\u001b[1;33m[\u001b[0m\u001b[1;36m4\u001b[0m\u001b[1;33m,\u001b[0m\u001b[1;36m1\u001b[0m\u001b[1;33m,\u001b[0m\u001b[1;36m0\u001b[0m\u001b[1;33m,\u001b[0m\u001b[1;36m2\u001b[0m\u001b[1;33m]\u001b[0m\u001b[1;33m,\u001b[0m\u001b[1;33m[\u001b[0m\u001b[1;36m0\u001b[0m\u001b[1;33m,\u001b[0m\u001b[1;36m2\u001b[0m\u001b[1;33m,\u001b[0m\u001b[1;36m0\u001b[0m\u001b[1;33m,\u001b[0m\u001b[1;36m1\u001b[0m\u001b[1;33m]\u001b[0m\u001b[1;33m]\u001b[0m\u001b[1;33m)\u001b[0m\u001b[1;33m\u001b[0m\u001b[0m\n\u001b[0m\u001b[0;32m      2\u001b[0m \u001b[0mprint\u001b[0m\u001b[1;33m(\u001b[0m\u001b[0msud\u001b[0m\u001b[1;33m)\u001b[0m\u001b[1;33m\u001b[0m\u001b[0m\n",
      "\u001b[1;31mNameError\u001b[0m: name 'np' is not defined"
     ]
    }
   ],
   "source": []
  },
  {
   "cell_type": "code",
   "execution_count": 1,
   "metadata": {},
   "outputs": [],
   "source": [
    "t=''"
   ]
  },
  {
   "cell_type": "code",
   "execution_count": 5,
   "metadata": {},
   "outputs": [],
   "source": [
    "t=t+'a'"
   ]
  },
  {
   "cell_type": "code",
   "execution_count": 6,
   "metadata": {},
   "outputs": [
    {
     "data": {
      "text/plain": [
       "'ab'"
      ]
     },
     "execution_count": 6,
     "metadata": {},
     "output_type": "execute_result"
    }
   ],
   "source": [
    "t+'b'"
   ]
  },
  {
   "cell_type": "code",
   "execution_count": null,
   "metadata": {},
   "outputs": [],
   "source": []
  }
 ],
 "metadata": {
  "kernelspec": {
   "display_name": "Python 3",
   "language": "python",
   "name": "python3"
  },
  "language_info": {
   "codemirror_mode": {
    "name": "ipython",
    "version": 3
   },
   "file_extension": ".py",
   "mimetype": "text/x-python",
   "name": "python",
   "nbconvert_exporter": "python",
   "pygments_lexer": "ipython3",
   "version": "3.7.0"
  }
 },
 "nbformat": 4,
 "nbformat_minor": 2
}
