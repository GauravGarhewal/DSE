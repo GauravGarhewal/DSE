{
 "cells": [
  {
   "cell_type": "code",
   "execution_count": 1,
   "metadata": {},
   "outputs": [
    {
     "name": "stdout",
     "output_type": "stream",
     "text": [
      "Collecting mglearn\n",
      "  Downloading https://files.pythonhosted.org/packages/fb/01/8d3630ecc767c9de96a9c46e055f2a3a5f9e14a47d3d0348a36a5005fe67/mglearn-0.1.7.tar.gz (540kB)\n",
      "Requirement already satisfied: numpy in c:\\users\\gaurav\\appdata\\local\\continuum\\anaconda3\\lib\\site-packages (from mglearn) (1.15.1)\n",
      "Requirement already satisfied: matplotlib in c:\\users\\gaurav\\appdata\\local\\continuum\\anaconda3\\lib\\site-packages (from mglearn) (2.2.3)\n",
      "Requirement already satisfied: scikit-learn in c:\\users\\gaurav\\appdata\\local\\continuum\\anaconda3\\lib\\site-packages (from mglearn) (0.20.2)\n",
      "Requirement already satisfied: pandas in c:\\users\\gaurav\\appdata\\local\\continuum\\anaconda3\\lib\\site-packages (from mglearn) (0.23.4)\n",
      "Requirement already satisfied: pillow in c:\\users\\gaurav\\appdata\\local\\continuum\\anaconda3\\lib\\site-packages (from mglearn) (5.2.0)\n",
      "Requirement already satisfied: cycler in c:\\users\\gaurav\\appdata\\local\\continuum\\anaconda3\\lib\\site-packages (from mglearn) (0.10.0)\n",
      "Requirement already satisfied: imageio in c:\\users\\gaurav\\appdata\\local\\continuum\\anaconda3\\lib\\site-packages (from mglearn) (2.4.1)\n",
      "Requirement already satisfied: pyparsing!=2.0.4,!=2.1.2,!=2.1.6,>=2.0.1 in c:\\users\\gaurav\\appdata\\local\\continuum\\anaconda3\\lib\\site-packages (from matplotlib->mglearn) (2.2.0)\n",
      "Requirement already satisfied: python-dateutil>=2.1 in c:\\users\\gaurav\\appdata\\local\\continuum\\anaconda3\\lib\\site-packages (from matplotlib->mglearn) (2.7.3)\n",
      "Requirement already satisfied: pytz in c:\\users\\gaurav\\appdata\\local\\continuum\\anaconda3\\lib\\site-packages (from matplotlib->mglearn) (2018.5)\n",
      "Requirement already satisfied: six>=1.10 in c:\\users\\gaurav\\appdata\\local\\continuum\\anaconda3\\lib\\site-packages (from matplotlib->mglearn) (1.11.0)\n",
      "Requirement already satisfied: kiwisolver>=1.0.1 in c:\\users\\gaurav\\appdata\\local\\continuum\\anaconda3\\lib\\site-packages (from matplotlib->mglearn) (1.0.1)\n",
      "Requirement already satisfied: scipy>=0.13.3 in c:\\users\\gaurav\\appdata\\local\\continuum\\anaconda3\\lib\\site-packages (from scikit-learn->mglearn) (1.1.0)\n",
      "Requirement already satisfied: setuptools in c:\\users\\gaurav\\appdata\\local\\continuum\\anaconda3\\lib\\site-packages (from kiwisolver>=1.0.1->matplotlib->mglearn) (40.2.0)\n",
      "Building wheels for collected packages: mglearn\n",
      "  Building wheel for mglearn (setup.py): started\n",
      "  Building wheel for mglearn (setup.py): finished with status 'done'\n",
      "  Stored in directory: C:\\Users\\Gaurav\\AppData\\Local\\pip\\Cache\\wheels\\74\\cf\\8d\\04f4932d15854a36726c6210763c7127e62de28f5c8ddfcf3b\n",
      "Successfully built mglearn\n",
      "Installing collected packages: mglearn\n",
      "Successfully installed mglearn-0.1.7\n"
     ]
    }
   ],
   "source": [
    "!pip install mglearn\n",
    "\n",
    "%matplotlib inline\n",
    "\n",
    "import pandas as pd\n",
    "import numpy as np\n",
    "import matplotlib.pyplot as plt\n",
    "import seaborn as sns\n"
   ]
  },
  {
   "cell_type": "code",
   "execution_count": null,
   "metadata": {},
   "outputs": [],
   "source": []
  },
  {
   "cell_type": "code",
   "execution_count": 3,
   "metadata": {},
   "outputs": [],
   "source": [
    "adult_df = pd.read_csv(\"adult.csv\")"
   ]
  },
  {
   "cell_type": "code",
   "execution_count": 4,
   "metadata": {},
   "outputs": [
    {
     "data": {
      "text/html": [
       "<div>\n",
       "<style scoped>\n",
       "    .dataframe tbody tr th:only-of-type {\n",
       "        vertical-align: middle;\n",
       "    }\n",
       "\n",
       "    .dataframe tbody tr th {\n",
       "        vertical-align: top;\n",
       "    }\n",
       "\n",
       "    .dataframe thead th {\n",
       "        text-align: right;\n",
       "    }\n",
       "</style>\n",
       "<table border=\"1\" class=\"dataframe\">\n",
       "  <thead>\n",
       "    <tr style=\"text-align: right;\">\n",
       "      <th></th>\n",
       "      <th>age</th>\n",
       "      <th>workclass</th>\n",
       "      <th>fnlwgt</th>\n",
       "      <th>education</th>\n",
       "      <th>educational-num</th>\n",
       "      <th>marital-status</th>\n",
       "      <th>occupation</th>\n",
       "      <th>relationship</th>\n",
       "      <th>race</th>\n",
       "      <th>gender</th>\n",
       "      <th>capital-gain</th>\n",
       "      <th>capital-loss</th>\n",
       "      <th>hours-per-week</th>\n",
       "      <th>native-country</th>\n",
       "      <th>income</th>\n",
       "    </tr>\n",
       "  </thead>\n",
       "  <tbody>\n",
       "    <tr>\n",
       "      <th>0</th>\n",
       "      <td>25</td>\n",
       "      <td>Private</td>\n",
       "      <td>226802</td>\n",
       "      <td>11th</td>\n",
       "      <td>7</td>\n",
       "      <td>Never-married</td>\n",
       "      <td>Machine-op-inspct</td>\n",
       "      <td>Own-child</td>\n",
       "      <td>Black</td>\n",
       "      <td>Male</td>\n",
       "      <td>0</td>\n",
       "      <td>0</td>\n",
       "      <td>40</td>\n",
       "      <td>United-States</td>\n",
       "      <td>&lt;=50K</td>\n",
       "    </tr>\n",
       "    <tr>\n",
       "      <th>1</th>\n",
       "      <td>38</td>\n",
       "      <td>Private</td>\n",
       "      <td>89814</td>\n",
       "      <td>HS-grad</td>\n",
       "      <td>9</td>\n",
       "      <td>Married-civ-spouse</td>\n",
       "      <td>Farming-fishing</td>\n",
       "      <td>Husband</td>\n",
       "      <td>White</td>\n",
       "      <td>Male</td>\n",
       "      <td>0</td>\n",
       "      <td>0</td>\n",
       "      <td>50</td>\n",
       "      <td>United-States</td>\n",
       "      <td>&lt;=50K</td>\n",
       "    </tr>\n",
       "    <tr>\n",
       "      <th>2</th>\n",
       "      <td>28</td>\n",
       "      <td>Local-gov</td>\n",
       "      <td>336951</td>\n",
       "      <td>Assoc-acdm</td>\n",
       "      <td>12</td>\n",
       "      <td>Married-civ-spouse</td>\n",
       "      <td>Protective-serv</td>\n",
       "      <td>Husband</td>\n",
       "      <td>White</td>\n",
       "      <td>Male</td>\n",
       "      <td>0</td>\n",
       "      <td>0</td>\n",
       "      <td>40</td>\n",
       "      <td>United-States</td>\n",
       "      <td>&gt;50K</td>\n",
       "    </tr>\n",
       "    <tr>\n",
       "      <th>3</th>\n",
       "      <td>44</td>\n",
       "      <td>Private</td>\n",
       "      <td>160323</td>\n",
       "      <td>Some-college</td>\n",
       "      <td>10</td>\n",
       "      <td>Married-civ-spouse</td>\n",
       "      <td>Machine-op-inspct</td>\n",
       "      <td>Husband</td>\n",
       "      <td>Black</td>\n",
       "      <td>Male</td>\n",
       "      <td>7688</td>\n",
       "      <td>0</td>\n",
       "      <td>40</td>\n",
       "      <td>United-States</td>\n",
       "      <td>&gt;50K</td>\n",
       "    </tr>\n",
       "    <tr>\n",
       "      <th>4</th>\n",
       "      <td>18</td>\n",
       "      <td>?</td>\n",
       "      <td>103497</td>\n",
       "      <td>Some-college</td>\n",
       "      <td>10</td>\n",
       "      <td>Never-married</td>\n",
       "      <td>?</td>\n",
       "      <td>Own-child</td>\n",
       "      <td>White</td>\n",
       "      <td>Female</td>\n",
       "      <td>0</td>\n",
       "      <td>0</td>\n",
       "      <td>30</td>\n",
       "      <td>United-States</td>\n",
       "      <td>&lt;=50K</td>\n",
       "    </tr>\n",
       "  </tbody>\n",
       "</table>\n",
       "</div>"
      ],
      "text/plain": [
       "   age  workclass  fnlwgt     education  educational-num      marital-status  \\\n",
       "0   25    Private  226802          11th                7       Never-married   \n",
       "1   38    Private   89814       HS-grad                9  Married-civ-spouse   \n",
       "2   28  Local-gov  336951    Assoc-acdm               12  Married-civ-spouse   \n",
       "3   44    Private  160323  Some-college               10  Married-civ-spouse   \n",
       "4   18          ?  103497  Some-college               10       Never-married   \n",
       "\n",
       "          occupation relationship   race  gender  capital-gain  capital-loss  \\\n",
       "0  Machine-op-inspct    Own-child  Black    Male             0             0   \n",
       "1    Farming-fishing      Husband  White    Male             0             0   \n",
       "2    Protective-serv      Husband  White    Male             0             0   \n",
       "3  Machine-op-inspct      Husband  Black    Male          7688             0   \n",
       "4                  ?    Own-child  White  Female             0             0   \n",
       "\n",
       "   hours-per-week native-country income  \n",
       "0              40  United-States  <=50K  \n",
       "1              50  United-States  <=50K  \n",
       "2              40  United-States   >50K  \n",
       "3              40  United-States   >50K  \n",
       "4              30  United-States  <=50K  "
      ]
     },
     "execution_count": 4,
     "metadata": {},
     "output_type": "execute_result"
    }
   ],
   "source": [
    "adult_df.head()"
   ]
  },
  {
   "cell_type": "code",
   "execution_count": 5,
   "metadata": {},
   "outputs": [],
   "source": [
    "#Objective - to predict whether a person with given attribute values is likely to be earning more than 50K\n",
    "\n",
    "# To use a linear classifier such as a logistic regression, we will have to convert the non-numeric columns to numeric\n",
    "# For e.g. \"education\" , \"occupation\" etc\n",
    "\n",
    "# Though we can use the numeric columns directly, we will categorize them too as part of our effor to get the best model\n",
    "# This can be easily done using ColumnTransformer class...\n",
    "\n",
    "# The ColumnTransformer will take as input a name for the transformer, a transformer function, column name to transform"
   ]
  },
  {
   "cell_type": "code",
   "execution_count": 6,
   "metadata": {},
   "outputs": [],
   "source": [
    "from sklearn.compose import ColumnTransformer\n",
    "from sklearn.preprocessing import StandardScaler\n",
    "from sklearn.preprocessing import OneHotEncoder\n",
    "from sklearn.linear_model import LogisticRegression\n",
    "from sklearn.model_selection import train_test_split"
   ]
  },
  {
   "cell_type": "code",
   "execution_count": 7,
   "metadata": {},
   "outputs": [],
   "source": [
    "ct = ColumnTransformer([(\"scaling\", StandardScaler(), ['age' , 'hours-per-week']), (\"OneHotCoding\", OneHotEncoder(sparse=False),\n",
    "                                                                                  ['workclass', 'education', 'gender', 'occupation'])])"
   ]
  },
  {
   "cell_type": "code",
   "execution_count": 8,
   "metadata": {},
   "outputs": [],
   "source": [
    "adult_features = adult_df.drop(\"income\" , axis=1)"
   ]
  },
  {
   "cell_type": "code",
   "execution_count": 9,
   "metadata": {},
   "outputs": [],
   "source": [
    "X_trainvalid, X_test, y_trainvalid, y_test = train_test_split(adult_features, adult_df.income,test_size=.25, random_state=0)\n",
    "\n",
    "# Splitting the adult_df_trainValidate into training and validation set\n",
    "\n",
    "X_train,X_valid,y_train,y_valid = train_test_split(X_trainvalid, y_trainvalid)"
   ]
  },
  {
   "cell_type": "code",
   "execution_count": 10,
   "metadata": {},
   "outputs": [
    {
     "name": "stdout",
     "output_type": "stream",
     "text": [
      "Adult dataset -  (48842, 15)\n",
      "X_test -  (12211, 14)\n",
      "X_trainvlaid -  (36631, 14)\n",
      "X_train -  (27473, 14)\n",
      "x_valid -  (9158, 14)\n"
     ]
    }
   ],
   "source": [
    "print(\"Adult dataset - \", adult_df.shape)\n",
    "print(\"X_test - \", X_test.shape)\n",
    "print(\"X_trainvlaid - \", X_trainvalid.shape)\n",
    "print(\"X_train - \", X_train.shape)\n",
    "print(\"x_valid - \", X_valid.shape)"
   ]
  },
  {
   "cell_type": "code",
   "execution_count": 11,
   "metadata": {},
   "outputs": [
    {
     "name": "stderr",
     "output_type": "stream",
     "text": [
      "C:\\Users\\Gaurav\\AppData\\Local\\Continuum\\anaconda3\\lib\\site-packages\\sklearn\\preprocessing\\data.py:625: DataConversionWarning: Data with input dtype int64 were all converted to float64 by StandardScaler.\n",
      "  return self.partial_fit(X, y)\n",
      "C:\\Users\\Gaurav\\AppData\\Local\\Continuum\\anaconda3\\lib\\site-packages\\sklearn\\base.py:462: DataConversionWarning: Data with input dtype int64 were all converted to float64 by StandardScaler.\n",
      "  return self.fit(X, **fit_params).transform(X)\n"
     ]
    },
    {
     "data": {
      "text/plain": [
       "ColumnTransformer(n_jobs=None, remainder='drop', sparse_threshold=0.3,\n",
       "         transformer_weights=None,\n",
       "         transformers=[('scaling', StandardScaler(copy=True, with_mean=True, with_std=True), ['age', 'hours-per-week']), ('OneHotCoding', OneHotEncoder(categorical_features=None, categories=None,\n",
       "       dtype=<class 'numpy.float64'>, handle_unknown='error',\n",
       "       n_values=None, sparse=False), ['workclass', 'education', 'gender', 'occupation'])])"
      ]
     },
     "execution_count": 11,
     "metadata": {},
     "output_type": "execute_result"
    }
   ],
   "source": [
    "ct.fit(X_train)   #note, this is not building a model. Observe, only the features are sent to the fit function"
   ]
  },
  {
   "cell_type": "code",
   "execution_count": 12,
   "metadata": {},
   "outputs": [
    {
     "name": "stdout",
     "output_type": "stream",
     "text": [
      "(27473, 44)\n"
     ]
    },
    {
     "name": "stderr",
     "output_type": "stream",
     "text": [
      "C:\\Users\\Gaurav\\AppData\\Local\\Continuum\\anaconda3\\lib\\site-packages\\sklearn\\pipeline.py:605: DataConversionWarning: Data with input dtype int64 were all converted to float64 by StandardScaler.\n",
      "  res = transformer.transform(X)\n"
     ]
    }
   ],
   "source": [
    "X_train_transformed = ct.transform(X_train)\n",
    "print(X_train_transformed.shape)"
   ]
  },
  {
   "cell_type": "code",
   "execution_count": 13,
   "metadata": {},
   "outputs": [
    {
     "name": "stdout",
     "output_type": "stream",
     "text": [
      "       age workclass  fnlwgt     education  educational-num  \\\n",
      "13005   55   Private  147989  Some-college               10   \n",
      "\n",
      "           marital-status    occupation relationship   race gender  \\\n",
      "13005  Married-civ-spouse  Craft-repair      Husband  White   Male   \n",
      "\n",
      "       capital-gain  capital-loss  hours-per-week native-country  \n",
      "13005             0             0              58  United-States  \n"
     ]
    },
    {
     "data": {
      "text/html": [
       "<div>\n",
       "<style scoped>\n",
       "    .dataframe tbody tr th:only-of-type {\n",
       "        vertical-align: middle;\n",
       "    }\n",
       "\n",
       "    .dataframe tbody tr th {\n",
       "        vertical-align: top;\n",
       "    }\n",
       "\n",
       "    .dataframe thead th {\n",
       "        text-align: right;\n",
       "    }\n",
       "</style>\n",
       "<table border=\"1\" class=\"dataframe\">\n",
       "  <thead>\n",
       "    <tr style=\"text-align: right;\">\n",
       "      <th></th>\n",
       "      <th>0</th>\n",
       "      <th>1</th>\n",
       "      <th>2</th>\n",
       "      <th>3</th>\n",
       "      <th>4</th>\n",
       "      <th>5</th>\n",
       "      <th>6</th>\n",
       "      <th>7</th>\n",
       "      <th>8</th>\n",
       "      <th>9</th>\n",
       "      <th>...</th>\n",
       "      <th>34</th>\n",
       "      <th>35</th>\n",
       "      <th>36</th>\n",
       "      <th>37</th>\n",
       "      <th>38</th>\n",
       "      <th>39</th>\n",
       "      <th>40</th>\n",
       "      <th>41</th>\n",
       "      <th>42</th>\n",
       "      <th>43</th>\n",
       "    </tr>\n",
       "  </thead>\n",
       "  <tbody>\n",
       "    <tr>\n",
       "      <th>0</th>\n",
       "      <td>1.181016</td>\n",
       "      <td>1.414734</td>\n",
       "      <td>0.0</td>\n",
       "      <td>0.0</td>\n",
       "      <td>0.0</td>\n",
       "      <td>0.0</td>\n",
       "      <td>1.0</td>\n",
       "      <td>0.0</td>\n",
       "      <td>0.0</td>\n",
       "      <td>0.0</td>\n",
       "      <td>...</td>\n",
       "      <td>0.0</td>\n",
       "      <td>0.0</td>\n",
       "      <td>0.0</td>\n",
       "      <td>0.0</td>\n",
       "      <td>0.0</td>\n",
       "      <td>0.0</td>\n",
       "      <td>0.0</td>\n",
       "      <td>0.0</td>\n",
       "      <td>0.0</td>\n",
       "      <td>0.0</td>\n",
       "    </tr>\n",
       "  </tbody>\n",
       "</table>\n",
       "<p>1 rows × 44 columns</p>\n",
       "</div>"
      ],
      "text/plain": [
       "         0         1    2    3    4    5    6    7    8    9  ...    34   35  \\\n",
       "0  1.181016  1.414734  0.0  0.0  0.0  0.0  1.0  0.0  0.0  0.0 ...   0.0  0.0   \n",
       "\n",
       "    36   37   38   39   40   41   42   43  \n",
       "0  0.0  0.0  0.0  0.0  0.0  0.0  0.0  0.0  \n",
       "\n",
       "[1 rows x 44 columns]"
      ]
     },
     "execution_count": 13,
     "metadata": {},
     "output_type": "execute_result"
    }
   ],
   "source": [
    "print(X_train[0:1])\n",
    "t = pd.DataFrame(X_train_transformed[0:1])   #Transform one record to see the result of transformation\n",
    "t.head()"
   ]
  },
  {
   "cell_type": "code",
   "execution_count": 14,
   "metadata": {},
   "outputs": [
    {
     "name": "stderr",
     "output_type": "stream",
     "text": [
      "C:\\Users\\Gaurav\\AppData\\Local\\Continuum\\anaconda3\\lib\\site-packages\\sklearn\\linear_model\\logistic.py:433: FutureWarning: Default solver will be changed to 'lbfgs' in 0.22. Specify a solver to silence this warning.\n",
      "  FutureWarning)\n"
     ]
    },
    {
     "data": {
      "text/plain": [
       "LogisticRegression(C=1.0, class_weight=None, dual=False, fit_intercept=True,\n",
       "          intercept_scaling=1, max_iter=100, multi_class='warn',\n",
       "          n_jobs=None, penalty='l2', random_state=None, solver='warn',\n",
       "          tol=0.0001, verbose=0, warm_start=False)"
      ]
     },
     "execution_count": 14,
     "metadata": {},
     "output_type": "execute_result"
    }
   ],
   "source": [
    "logreg = LogisticRegression()\n",
    "logreg.fit(X_train_transformed, y_train)  # Logistic regression works without any complaint about the data type!"
   ]
  },
  {
   "cell_type": "code",
   "execution_count": 15,
   "metadata": {},
   "outputs": [
    {
     "name": "stdout",
     "output_type": "stream",
     "text": [
      "Test Score : 0.8145883380650797\n"
     ]
    },
    {
     "name": "stderr",
     "output_type": "stream",
     "text": [
      "C:\\Users\\Gaurav\\AppData\\Local\\Continuum\\anaconda3\\lib\\site-packages\\sklearn\\pipeline.py:605: DataConversionWarning: Data with input dtype int64 were all converted to float64 by StandardScaler.\n",
      "  res = transformer.transform(X)\n"
     ]
    }
   ],
   "source": [
    "X_valid_transformed = ct.transform(X_valid)  # Using validatin data for the testing\n",
    "\n",
    "print(\"Test Score :\" , logreg.score(X_valid_transformed, y_valid))"
   ]
  },
  {
   "cell_type": "code",
   "execution_count": null,
   "metadata": {},
   "outputs": [],
   "source": []
  },
  {
   "cell_type": "code",
   "execution_count": 16,
   "metadata": {},
   "outputs": [
    {
     "name": "stdout",
     "output_type": "stream",
     "text": [
      "original features :\n",
      " ['age', 'workclass', 'fnlwgt', 'education', 'educational-num', 'marital-status', 'occupation', 'relationship', 'race', 'gender', 'capital-gain', 'capital-loss', 'hours-per-week', 'native-country']\n",
      "Transformed features \n",
      "\n"
     ]
    },
    {
     "data": {
      "text/plain": [
       "(None,\n",
       " ['age',\n",
       "  'fnlwgt',\n",
       "  'educational-num',\n",
       "  'capital-gain',\n",
       "  'capital-loss',\n",
       "  'hours-per-week',\n",
       "  'workclass_?',\n",
       "  'workclass_Federal-gov',\n",
       "  'workclass_Local-gov',\n",
       "  'workclass_Never-worked',\n",
       "  'workclass_Private',\n",
       "  'workclass_Self-emp-inc',\n",
       "  'workclass_Self-emp-not-inc',\n",
       "  'workclass_State-gov',\n",
       "  'workclass_Without-pay',\n",
       "  'education_10th',\n",
       "  'education_11th',\n",
       "  'education_12th',\n",
       "  'education_1st-4th',\n",
       "  'education_5th-6th',\n",
       "  'education_7th-8th',\n",
       "  'education_9th',\n",
       "  'education_Assoc-acdm',\n",
       "  'education_Assoc-voc',\n",
       "  'education_Bachelors',\n",
       "  'education_Doctorate',\n",
       "  'education_HS-grad',\n",
       "  'education_Masters',\n",
       "  'education_Preschool',\n",
       "  'education_Prof-school',\n",
       "  'education_Some-college',\n",
       "  'marital-status_Divorced',\n",
       "  'marital-status_Married-AF-spouse',\n",
       "  'marital-status_Married-civ-spouse',\n",
       "  'marital-status_Married-spouse-absent',\n",
       "  'marital-status_Never-married',\n",
       "  'marital-status_Separated',\n",
       "  'marital-status_Widowed',\n",
       "  'occupation_?',\n",
       "  'occupation_Adm-clerical',\n",
       "  'occupation_Armed-Forces',\n",
       "  'occupation_Craft-repair',\n",
       "  'occupation_Exec-managerial',\n",
       "  'occupation_Farming-fishing',\n",
       "  'occupation_Handlers-cleaners',\n",
       "  'occupation_Machine-op-inspct',\n",
       "  'occupation_Other-service',\n",
       "  'occupation_Priv-house-serv',\n",
       "  'occupation_Prof-specialty',\n",
       "  'occupation_Protective-serv',\n",
       "  'occupation_Sales',\n",
       "  'occupation_Tech-support',\n",
       "  'occupation_Transport-moving',\n",
       "  'relationship_Husband',\n",
       "  'relationship_Not-in-family',\n",
       "  'relationship_Other-relative',\n",
       "  'relationship_Own-child',\n",
       "  'relationship_Unmarried',\n",
       "  'relationship_Wife',\n",
       "  'race_Amer-Indian-Eskimo',\n",
       "  'race_Asian-Pac-Islander',\n",
       "  'race_Black',\n",
       "  'race_Other',\n",
       "  'race_White',\n",
       "  'gender_Female',\n",
       "  'gender_Male',\n",
       "  'native-country_?',\n",
       "  'native-country_Cambodia',\n",
       "  'native-country_Canada',\n",
       "  'native-country_China',\n",
       "  'native-country_Columbia',\n",
       "  'native-country_Cuba',\n",
       "  'native-country_Dominican-Republic',\n",
       "  'native-country_Ecuador',\n",
       "  'native-country_El-Salvador',\n",
       "  'native-country_England',\n",
       "  'native-country_France',\n",
       "  'native-country_Germany',\n",
       "  'native-country_Greece',\n",
       "  'native-country_Guatemala',\n",
       "  'native-country_Haiti',\n",
       "  'native-country_Holand-Netherlands',\n",
       "  'native-country_Honduras',\n",
       "  'native-country_Hong',\n",
       "  'native-country_Hungary',\n",
       "  'native-country_India',\n",
       "  'native-country_Iran',\n",
       "  'native-country_Ireland',\n",
       "  'native-country_Italy',\n",
       "  'native-country_Jamaica',\n",
       "  'native-country_Japan',\n",
       "  'native-country_Laos',\n",
       "  'native-country_Mexico',\n",
       "  'native-country_Nicaragua',\n",
       "  'native-country_Outlying-US(Guam-USVI-etc)',\n",
       "  'native-country_Peru',\n",
       "  'native-country_Philippines',\n",
       "  'native-country_Poland',\n",
       "  'native-country_Portugal',\n",
       "  'native-country_Puerto-Rico',\n",
       "  'native-country_Scotland',\n",
       "  'native-country_South',\n",
       "  'native-country_Taiwan',\n",
       "  'native-country_Thailand',\n",
       "  'native-country_Trinadad&Tobago',\n",
       "  'native-country_United-States',\n",
       "  'native-country_Vietnam',\n",
       "  'native-country_Yugoslavia'])"
      ]
     },
     "execution_count": 16,
     "metadata": {},
     "output_type": "execute_result"
    }
   ],
   "source": [
    "# We can also make use of pandas dummies function instead of the OneHotCoder\n",
    "\n",
    "print(\"original features :\\n\" ,list(X_train) )\n",
    "\n",
    "#X_train_dummies = pd.get_dummies(X_train , columns=['workclass', 'education', 'gender', 'occupation'])\n",
    "X_train_dummies = pd.get_dummies(X_train )\n",
    "print(\"Transformed features \\n\"), list(X_train_dummies)"
   ]
  },
  {
   "cell_type": "code",
   "execution_count": 17,
   "metadata": {},
   "outputs": [
    {
     "data": {
      "text/plain": [
       "(27473, 108)"
      ]
     },
     "execution_count": 17,
     "metadata": {},
     "output_type": "execute_result"
    }
   ],
   "source": [
    "X_train_dummies.shape"
   ]
  },
  {
   "cell_type": "code",
   "execution_count": 18,
   "metadata": {},
   "outputs": [
    {
     "name": "stderr",
     "output_type": "stream",
     "text": [
      "C:\\Users\\Gaurav\\AppData\\Local\\Continuum\\anaconda3\\lib\\site-packages\\sklearn\\linear_model\\logistic.py:433: FutureWarning: Default solver will be changed to 'lbfgs' in 0.22. Specify a solver to silence this warning.\n",
      "  FutureWarning)\n"
     ]
    },
    {
     "data": {
      "text/plain": [
       "LogisticRegression(C=1.0, class_weight=None, dual=False, fit_intercept=True,\n",
       "          intercept_scaling=1, max_iter=100, multi_class='warn',\n",
       "          n_jobs=None, penalty='l2', random_state=None, solver='warn',\n",
       "          tol=0.0001, verbose=0, warm_start=False)"
      ]
     },
     "execution_count": 18,
     "metadata": {},
     "output_type": "execute_result"
    }
   ],
   "source": [
    "logreg.fit(X_train_dummies, y_train)  # Logistic regression works without any complaint about the data type!"
   ]
  },
  {
   "cell_type": "code",
   "execution_count": 19,
   "metadata": {},
   "outputs": [
    {
     "name": "stdout",
     "output_type": "stream",
     "text": [
      "(9158, 107)\n"
     ]
    },
    {
     "ename": "ValueError",
     "evalue": "X has 107 features per sample; expecting 108",
     "output_type": "error",
     "traceback": [
      "\u001b[1;31m---------------------------------------------------------------------------\u001b[0m",
      "\u001b[1;31mValueError\u001b[0m                                Traceback (most recent call last)",
      "\u001b[1;32m<ipython-input-19-23850c15060a>\u001b[0m in \u001b[0;36m<module>\u001b[1;34m()\u001b[0m\n\u001b[0;32m      2\u001b[0m \u001b[0mprint\u001b[0m\u001b[1;33m(\u001b[0m\u001b[0mX_valid_dummies\u001b[0m\u001b[1;33m.\u001b[0m\u001b[0mshape\u001b[0m\u001b[1;33m)\u001b[0m\u001b[1;33m\u001b[0m\u001b[0m\n\u001b[0;32m      3\u001b[0m \u001b[1;33m\u001b[0m\u001b[0m\n\u001b[1;32m----> 4\u001b[1;33m \u001b[0mprint\u001b[0m\u001b[1;33m(\u001b[0m\u001b[1;34m\"Test Score :\"\u001b[0m \u001b[1;33m,\u001b[0m \u001b[0mlogreg\u001b[0m\u001b[1;33m.\u001b[0m\u001b[0mscore\u001b[0m\u001b[1;33m(\u001b[0m\u001b[0mX_valid_dummies\u001b[0m\u001b[1;33m,\u001b[0m \u001b[0my_valid\u001b[0m\u001b[1;33m)\u001b[0m\u001b[1;33m)\u001b[0m\u001b[1;33m\u001b[0m\u001b[0m\n\u001b[0m",
      "\u001b[1;32m~\\AppData\\Local\\Continuum\\anaconda3\\lib\\site-packages\\sklearn\\base.py\u001b[0m in \u001b[0;36mscore\u001b[1;34m(self, X, y, sample_weight)\u001b[0m\n\u001b[0;32m    286\u001b[0m         \"\"\"\n\u001b[0;32m    287\u001b[0m         \u001b[1;32mfrom\u001b[0m \u001b[1;33m.\u001b[0m\u001b[0mmetrics\u001b[0m \u001b[1;32mimport\u001b[0m \u001b[0maccuracy_score\u001b[0m\u001b[1;33m\u001b[0m\u001b[0m\n\u001b[1;32m--> 288\u001b[1;33m         \u001b[1;32mreturn\u001b[0m \u001b[0maccuracy_score\u001b[0m\u001b[1;33m(\u001b[0m\u001b[0my\u001b[0m\u001b[1;33m,\u001b[0m \u001b[0mself\u001b[0m\u001b[1;33m.\u001b[0m\u001b[0mpredict\u001b[0m\u001b[1;33m(\u001b[0m\u001b[0mX\u001b[0m\u001b[1;33m)\u001b[0m\u001b[1;33m,\u001b[0m \u001b[0msample_weight\u001b[0m\u001b[1;33m=\u001b[0m\u001b[0msample_weight\u001b[0m\u001b[1;33m)\u001b[0m\u001b[1;33m\u001b[0m\u001b[0m\n\u001b[0m\u001b[0;32m    289\u001b[0m \u001b[1;33m\u001b[0m\u001b[0m\n\u001b[0;32m    290\u001b[0m \u001b[1;33m\u001b[0m\u001b[0m\n",
      "\u001b[1;32m~\\AppData\\Local\\Continuum\\anaconda3\\lib\\site-packages\\sklearn\\linear_model\\base.py\u001b[0m in \u001b[0;36mpredict\u001b[1;34m(self, X)\u001b[0m\n\u001b[0;32m    279\u001b[0m             \u001b[0mPredicted\u001b[0m \u001b[1;32mclass\u001b[0m \u001b[0mlabel\u001b[0m \u001b[0mper\u001b[0m \u001b[0msample\u001b[0m\u001b[1;33m.\u001b[0m\u001b[1;33m\u001b[0m\u001b[0m\n\u001b[0;32m    280\u001b[0m         \"\"\"\n\u001b[1;32m--> 281\u001b[1;33m         \u001b[0mscores\u001b[0m \u001b[1;33m=\u001b[0m \u001b[0mself\u001b[0m\u001b[1;33m.\u001b[0m\u001b[0mdecision_function\u001b[0m\u001b[1;33m(\u001b[0m\u001b[0mX\u001b[0m\u001b[1;33m)\u001b[0m\u001b[1;33m\u001b[0m\u001b[0m\n\u001b[0m\u001b[0;32m    282\u001b[0m         \u001b[1;32mif\u001b[0m \u001b[0mlen\u001b[0m\u001b[1;33m(\u001b[0m\u001b[0mscores\u001b[0m\u001b[1;33m.\u001b[0m\u001b[0mshape\u001b[0m\u001b[1;33m)\u001b[0m \u001b[1;33m==\u001b[0m \u001b[1;36m1\u001b[0m\u001b[1;33m:\u001b[0m\u001b[1;33m\u001b[0m\u001b[0m\n\u001b[0;32m    283\u001b[0m             \u001b[0mindices\u001b[0m \u001b[1;33m=\u001b[0m \u001b[1;33m(\u001b[0m\u001b[0mscores\u001b[0m \u001b[1;33m>\u001b[0m \u001b[1;36m0\u001b[0m\u001b[1;33m)\u001b[0m\u001b[1;33m.\u001b[0m\u001b[0mastype\u001b[0m\u001b[1;33m(\u001b[0m\u001b[0mnp\u001b[0m\u001b[1;33m.\u001b[0m\u001b[0mint\u001b[0m\u001b[1;33m)\u001b[0m\u001b[1;33m\u001b[0m\u001b[0m\n",
      "\u001b[1;32m~\\AppData\\Local\\Continuum\\anaconda3\\lib\\site-packages\\sklearn\\linear_model\\base.py\u001b[0m in \u001b[0;36mdecision_function\u001b[1;34m(self, X)\u001b[0m\n\u001b[0;32m    260\u001b[0m         \u001b[1;32mif\u001b[0m \u001b[0mX\u001b[0m\u001b[1;33m.\u001b[0m\u001b[0mshape\u001b[0m\u001b[1;33m[\u001b[0m\u001b[1;36m1\u001b[0m\u001b[1;33m]\u001b[0m \u001b[1;33m!=\u001b[0m \u001b[0mn_features\u001b[0m\u001b[1;33m:\u001b[0m\u001b[1;33m\u001b[0m\u001b[0m\n\u001b[0;32m    261\u001b[0m             raise ValueError(\"X has %d features per sample; expecting %d\"\n\u001b[1;32m--> 262\u001b[1;33m                              % (X.shape[1], n_features))\n\u001b[0m\u001b[0;32m    263\u001b[0m \u001b[1;33m\u001b[0m\u001b[0m\n\u001b[0;32m    264\u001b[0m         scores = safe_sparse_dot(X, self.coef_.T,\n",
      "\u001b[1;31mValueError\u001b[0m: X has 107 features per sample; expecting 108"
     ]
    }
   ],
   "source": [
    "X_valid_dummies = pd.get_dummies(X_valid)  # Using validation data for the testing\n",
    "print(X_valid_dummies.shape)\n",
    "\n",
    "print(\"Test Score :\" , logreg.score(X_valid_dummies, y_valid))"
   ]
  },
  {
   "cell_type": "code",
   "execution_count": null,
   "metadata": {},
   "outputs": [],
   "source": [
    "# Be careful both with pd.get_dummies and OneHotEncoder. When we split our data into traning and testing, the get_dummies and\n",
    "# OneHotEncoder will generate the columns as per the cardinality of the raw data columns. \n",
    "# If the test data does not have some of the possible values (sampling problem), and we separately apply OneHot or Dummify,\n",
    "# we may not get the same number of one-hot columns i.e. the no. of attributes between training and testing may be different"
   ]
  },
  {
   "cell_type": "code",
   "execution_count": 21,
   "metadata": {},
   "outputs": [
    {
     "data": {
      "text/plain": [
       "(9158, 107)"
      ]
     },
     "execution_count": 21,
     "metadata": {},
     "output_type": "execute_result"
    }
   ],
   "source": [
    "X_valid_dummies.shape"
   ]
  },
  {
   "cell_type": "markdown",
   "metadata": {},
   "source": [
    "# Binning / Discretization "
   ]
  },
  {
   "cell_type": "code",
   "execution_count": 22,
   "metadata": {},
   "outputs": [
    {
     "name": "stdout",
     "output_type": "stream",
     "text": [
      "(40, 1)\n",
      "(40,)\n"
     ]
    }
   ],
   "source": [
    "import mglearn\n",
    "X, y = mglearn.datasets.make_wave(n_samples=40)   #This data has only one independent column. Easier to explain concepts\n",
    "print(X.shape)\n",
    "print(y.shape)"
   ]
  },
  {
   "cell_type": "code",
   "execution_count": 23,
   "metadata": {},
   "outputs": [
    {
     "name": "stdout",
     "output_type": "stream",
     "text": [
      "X values :\n",
      "           0\n",
      "0 -0.752759\n",
      "1  2.704286\n",
      "2  1.391964\n",
      "3  0.591951\n",
      "4 -2.063888\n",
      "y values :\n",
      "           0\n",
      "0 -0.448221\n",
      "1  0.331226\n",
      "2  0.779321\n",
      "3  0.034979\n",
      "4 -1.387736\n"
     ]
    }
   ],
   "source": [
    "print('X values :\\n',pd.DataFrame(X).head())\n",
    "print('y values :\\n',pd.DataFrame(y).head())"
   ]
  },
  {
   "cell_type": "code",
   "execution_count": 24,
   "metadata": {},
   "outputs": [],
   "source": [
    "from sklearn.linear_model import LinearRegression   #We will compare the linear model with decision model on this data\n",
    "from sklearn.tree import DecisionTreeRegressor"
   ]
  },
  {
   "cell_type": "code",
   "execution_count": 25,
   "metadata": {},
   "outputs": [],
   "source": [
    "X , y = mglearn.datasets.make_wave(n_samples=120)\n",
    "\n",
    "line = np.linspace(-3, 3 , 1000, endpoint = False) # generate list of 1000 numbers from -3 upto 3 but not including 3 \n",
    "line = line.reshape(-1,1) # converts to array of numbers"
   ]
  },
  {
   "cell_type": "code",
   "execution_count": 38,
   "metadata": {},
   "outputs": [
    {
     "data": {
      "text/plain": [
       "<matplotlib.legend.Legend at 0x1d69da52e10>"
      ]
     },
     "execution_count": 38,
     "metadata": {},
     "output_type": "execute_result"
    },
    {
     "data": {
      "image/png": "[encoded data removed]",
      "text/plain": [
       "<Figure size 432x288 with 1 Axes>"
      ]
     },
     "metadata": {
      "needs_background": "light"
     },
     "output_type": "display_data"
    }
   ],
   "source": [
    "Dtreg = DecisionTreeRegressor(min_samples_leaf = 3).fit(X,y)\n",
    "predicted = Dtreg.predict(line)\n",
    "plt.plot(line, predicted, label=\"Decision Tree\")\n",
    "\n",
    "linreg = LinearRegression().fit(X,y)\n",
    "linpredicted = linreg.predict(line)\n",
    "plt.plot(line, linpredicted, label = \"Linear Regression\" )\n",
    "\n",
    "plt.plot(X[:,0], y, 'o', c='k')\n",
    "plt.ylabel(\"Regression Output\")\n",
    "plt.xlabel(\"Input Features\")\n",
    "plt.legend(loc = 'best')"
   ]
  },
  {
   "cell_type": "code",
   "execution_count": 39,
   "metadata": {},
   "outputs": [
    {
     "name": "stdout",
     "output_type": "stream",
     "text": [
      "0.6263363499825908\n",
      "0.8562462696125981\n"
     ]
    }
   ],
   "source": [
    "print(linreg.score(X, y))\n",
    "print(Dtreg.score(X, y))"
   ]
  },
  {
   "cell_type": "code",
   "execution_count": 214,
   "metadata": {},
   "outputs": [],
   "source": [
    "# Linear models (orange line) can build only simple models but decision trees can build simple to complex models\n",
    "# In case we have to use linear models, we can make them more powerful by changing the data representation \n",
    "# one way to make linear models more powerful is binning the data\n",
    "\n"
   ]
  },
  {
   "cell_type": "code",
   "execution_count": 31,
   "metadata": {},
   "outputs": [
    {
     "name": "stdout",
     "output_type": "stream",
     "text": [
      "bin edges \n",
      " [array([-2.9668673 , -2.37804841, -1.78922951, -1.20041062, -0.61159173,\n",
      "       -0.02277284,  0.56604605,  1.15486494,  1.74368384,  2.33250273,\n",
      "        2.92132162])]\n"
     ]
    }
   ],
   "source": [
    "from sklearn.preprocessing import KBinsDiscretizer\n",
    "\n",
    "kb = KBinsDiscretizer(n_bins=10, strategy='uniform')\n",
    "\n",
    "kb.fit(X)\n",
    "\n",
    "print(\"bin edges \\n\", kb.bin_edges_)\n",
    "\n"
   ]
  },
  {
   "cell_type": "code",
   "execution_count": 32,
   "metadata": {},
   "outputs": [
    {
     "data": {
      "text/plain": [
       "<120x10 sparse matrix of type '<class 'numpy.float64'>'\n",
       "\twith 120 stored elements in Compressed Sparse Row format>"
      ]
     },
     "execution_count": 32,
     "metadata": {},
     "output_type": "execute_result"
    }
   ],
   "source": [
    "# With the bins defined, we can transform each data point X into a bin using the transform function\n",
    "\n",
    "X_binned = kb.transform(X)\n",
    "X_binned"
   ]
  },
  {
   "cell_type": "code",
   "execution_count": 33,
   "metadata": {},
   "outputs": [
    {
     "name": "stdout",
     "output_type": "stream",
     "text": [
      "[0. 0. 0. 1. 0. 0. 0. 0. 0. 0.]\n",
      "          0\n",
      "0 -0.752759\n"
     ]
    }
   ],
   "source": [
    "print(X_binned.toarray()[0,:])\n",
    "print(pd.DataFrame(X).head(1))   #First data point -0.752759 is stored in bin 4"
   ]
  },
  {
   "cell_type": "code",
   "execution_count": 34,
   "metadata": {},
   "outputs": [],
   "source": [
    "# To prevent sparse matrix and create dense matrix, let us re-do the binning with onehot coding. A given input belongs to\n",
    "# one bin and not others. Hence, we can onehot code them\n",
    "\n",
    "kb = KBinsDiscretizer( n_bins = 10, strategy ='uniform', encode ='onehot-dense') \n",
    "kb.fit(X) \n",
    "X_binned = kb.transform(X)"
   ]
  },
  {
   "cell_type": "code",
   "execution_count": 248,
   "metadata": {},
   "outputs": [
    {
     "data": {
      "text/plain": [
       "array([[0., 0., 0., 1., 0., 0., 0., 0., 0., 0.],\n",
       "       [0., 0., 0., 0., 0., 0., 0., 0., 0., 1.],\n",
       "       [0., 0., 0., 0., 0., 0., 0., 1., 0., 0.],\n",
       "       [0., 0., 0., 0., 0., 0., 1., 0., 0., 0.],\n",
       "       [0., 1., 0., 0., 0., 0., 0., 0., 0., 0.],\n",
       "       [0., 1., 0., 0., 0., 0., 0., 0., 0., 0.],\n",
       "       [1., 0., 0., 0., 0., 0., 0., 0., 0., 0.],\n",
       "       [0., 0., 0., 0., 0., 0., 0., 0., 1., 0.],\n",
       "       [0., 0., 0., 0., 0., 0., 1., 0., 0., 0.],\n",
       "       [0., 0., 0., 0., 0., 0., 0., 1., 0., 0.]])"
      ]
     },
     "execution_count": 248,
     "metadata": {},
     "output_type": "execute_result"
    }
   ],
   "source": [
    "X_binned[0:10]"
   ]
  },
  {
   "cell_type": "code",
   "execution_count": 35,
   "metadata": {},
   "outputs": [],
   "source": [
    "# bin the input line data too which is our test data\n",
    "\n",
    "line_binned = kb.transform(line)\n"
   ]
  },
  {
   "cell_type": "code",
   "execution_count": 42,
   "metadata": {},
   "outputs": [
    {
     "data": {
      "text/plain": [
       "<matplotlib.legend.Legend at 0x1d69de3df60>"
      ]
     },
     "execution_count": 42,
     "metadata": {},
     "output_type": "execute_result"
    },
    {
     "data": {
      "image/png": "[encoded data removed]",
      "text/plain": [
       "<Figure size 432x288 with 1 Axes>"
      ]
     },
     "metadata": {
      "needs_background": "light"
     },
     "output_type": "display_data"
    }
   ],
   "source": [
    "linreg = LinearRegression().fit(X_binned, y)\n",
    "Dtreg = DecisionTreeRegressor(min_samples_leaf = 3).fit(X_binned,y)\n",
    "predicted = linreg.predict(line_binned)\n",
    "plt.plot(line, predicted, label = 'Linear Regressor combined')\n",
    "\n",
    "#Dtreg = DecisionTreeRegressor(min_samples_split = 3).fit(X_binned,y)\n",
    "#predicted = Dtreg.predict(line_binned)\n",
    "#plt.plot(line, predicted, label=\"Decision Tree combined\")\n",
    "\n",
    "\n",
    "plt.plot(X[:,0], y, 'o', c='k')       # plotting origial X Vs y. The slope of line may not match coeff\n",
    "plt.vlines(kb.bin_edges_[0], -3,3, linewidth=1, alpha=.2)\n",
    "plt.ylabel(\"Regression Output\")\n",
    "plt.xlabel(\"Input Features\")\n",
    "plt.legend(loc = 'best')"
   ]
  },
  {
   "cell_type": "code",
   "execution_count": 43,
   "metadata": {},
   "outputs": [
    {
     "name": "stdout",
     "output_type": "stream",
     "text": [
      "0.7237309728172019\n",
      "0.7237309728172018\n"
     ]
    }
   ],
   "source": [
    "print(linreg.score(X_binned, y))\n",
    "print(Dtreg.score(X_binned, y))   # Performance of DT has gone down because now it is built on bins not original data"
   ]
  },
  {
   "cell_type": "code",
   "execution_count": 44,
   "metadata": {},
   "outputs": [],
   "source": [
    "# The decision tree boundaries and linear regression boundaries are exactly same. They are overlapping. For each bin they\n",
    "# are predicting a constant value. To convince, comment out the plot for Decision Tree... You will see the regression line\n",
    "# Comparing the linear models before binning and after binning, we can see that the linear model has become more flexible."
   ]
  },
  {
   "cell_type": "code",
   "execution_count": 45,
   "metadata": {},
   "outputs": [
    {
     "name": "stdout",
     "output_type": "stream",
     "text": [
      "coefficients for each bin \n",
      " [-1.03201943 -1.22695979 -0.34954264 -0.2295748  -0.78029033  0.49470868\n",
      "  0.28071025  0.59355014  1.37382361  0.8755943 ]\n",
      "\n",
      "intercept\n",
      " 0.05544260355818969\n"
     ]
    }
   ],
   "source": [
    "print(\"coefficients for each bin \\n\", linreg.coef_ ) #coefficients for each bin.\n",
    "print(\"\")\n",
    "print(\"intercept\\n\", linreg.intercept_)"
   ]
  },
  {
   "cell_type": "code",
   "execution_count": 224,
   "metadata": {},
   "outputs": [],
   "source": [
    "# compare the linear regression scores before and after binning"
   ]
  },
  {
   "cell_type": "markdown",
   "metadata": {},
   "source": [
    "# Adding slope to the linear model in a bin"
   ]
  },
  {
   "cell_type": "code",
   "execution_count": 46,
   "metadata": {},
   "outputs": [
    {
     "data": {
      "text/plain": [
       "array([[-0.75275929,  0.        ,  0.        ,  0.        ,  1.        ,\n",
       "         0.        ,  0.        ,  0.        ,  0.        ,  0.        ,\n",
       "         0.        ],\n",
       "       [ 2.70428584,  0.        ,  0.        ,  0.        ,  0.        ,\n",
       "         0.        ,  0.        ,  0.        ,  0.        ,  0.        ,\n",
       "         1.        ],\n",
       "       [ 1.39196365,  0.        ,  0.        ,  0.        ,  0.        ,\n",
       "         0.        ,  0.        ,  0.        ,  1.        ,  0.        ,\n",
       "         0.        ],\n",
       "       [ 0.59195091,  0.        ,  0.        ,  0.        ,  0.        ,\n",
       "         0.        ,  0.        ,  1.        ,  0.        ,  0.        ,\n",
       "         0.        ],\n",
       "       [-2.06388816,  0.        ,  1.        ,  0.        ,  0.        ,\n",
       "         0.        ,  0.        ,  0.        ,  0.        ,  0.        ,\n",
       "         0.        ],\n",
       "       [-2.06403288,  0.        ,  1.        ,  0.        ,  0.        ,\n",
       "         0.        ,  0.        ,  0.        ,  0.        ,  0.        ,\n",
       "         0.        ],\n",
       "       [-2.65149833,  1.        ,  0.        ,  0.        ,  0.        ,\n",
       "         0.        ,  0.        ,  0.        ,  0.        ,  0.        ,\n",
       "         0.        ],\n",
       "       [ 2.19705687,  0.        ,  0.        ,  0.        ,  0.        ,\n",
       "         0.        ,  0.        ,  0.        ,  0.        ,  1.        ,\n",
       "         0.        ],\n",
       "       [ 0.60669007,  0.        ,  0.        ,  0.        ,  0.        ,\n",
       "         0.        ,  0.        ,  1.        ,  0.        ,  0.        ,\n",
       "         0.        ],\n",
       "       [ 1.24843547,  0.        ,  0.        ,  0.        ,  0.        ,\n",
       "         0.        ,  0.        ,  0.        ,  1.        ,  0.        ,\n",
       "         0.        ]])"
      ]
     },
     "execution_count": 46,
     "metadata": {},
     "output_type": "execute_result"
    }
   ],
   "source": [
    "X_combined = np.hstack([X, X_binned])\n",
    "line_combined = np.hstack([line, line_binned])\n",
    "X_combined[0:10]"
   ]
  },
  {
   "cell_type": "code",
   "execution_count": 47,
   "metadata": {},
   "outputs": [
    {
     "name": "stdout",
     "output_type": "stream",
     "text": [
      "X_Combined shape : (120, 11)\n"
     ]
    }
   ],
   "source": [
    "print('X_Combined shape :', X_combined.shape)  #from 10 onehotcoded columns, it has become 11"
   ]
  },
  {
   "cell_type": "code",
   "execution_count": 48,
   "metadata": {},
   "outputs": [
    {
     "data": {
      "text/plain": [
       "<matplotlib.legend.Legend at 0x1d69deb4e48>"
      ]
     },
     "execution_count": 48,
     "metadata": {},
     "output_type": "execute_result"
    },
    {
     "data": {
      "image/png": "[encoded data removed]",
      "text/plain": [
       "<Figure size 432x288 with 1 Axes>"
      ]
     },
     "metadata": {
      "needs_background": "light"
     },
     "output_type": "display_data"
    }
   ],
   "source": [
    "linreg = LinearRegression().fit(X_combined, y)\n",
    "predicted = linreg.predict(line_combined)\n",
    "plt.plot(line, predicted, label = 'Linear Regressor combined')\n",
    "\n",
    "Dtreg = DecisionTreeRegressor(min_samples_leaf = 3).fit(X_combined,y)\n",
    "predicted = Dtreg.predict(line_combined)\n",
    "plt.plot(line, predicted, label=\"Decision Tree combined\")\n",
    "\n",
    "\n",
    "plt.plot(X[:,0], y, 'o', c='k')\n",
    "plt.vlines(kb.bin_edges_[0], -3,3, linewidth=1, alpha=.2)\n",
    "plt.ylabel(\"Regression Output\")\n",
    "plt.xlabel(\"Input Features\")\n",
    "plt.legend(loc = 'best')"
   ]
  },
  {
   "cell_type": "code",
   "execution_count": 49,
   "metadata": {},
   "outputs": [],
   "source": [
    "# linear regression model now has learnt a slope but the slope is same in all the bins (blue line)"
   ]
  },
  {
   "cell_type": "code",
   "execution_count": 50,
   "metadata": {},
   "outputs": [
    {
     "name": "stdout",
     "output_type": "stream",
     "text": [
      "coefficients for each bin \n",
      " [ 0.37891039 -0.02879907 -0.46519195  0.17621386  0.13142368 -0.68549904\n",
      "  0.39882373 -0.01863165  0.02106605  0.6006746  -0.13008021]\n",
      "\n",
      "intercept\n",
      " 0.0665722481942536\n"
     ]
    }
   ],
   "source": [
    "print(\"coefficients for each bin \\n\", linreg.coef_ ) #coefficients for each bin.\n",
    "print(\"\")\n",
    "print(\"intercept\\n\", linreg.intercept_)"
   ]
  },
  {
   "cell_type": "code",
   "execution_count": 51,
   "metadata": {},
   "outputs": [
    {
     "name": "stdout",
     "output_type": "stream",
     "text": [
      "0.7277571512572492\n",
      "0.8562462696125981\n"
     ]
    }
   ],
   "source": [
    "print(linreg.score(X_combined, y))\n",
    "print(Dtreg.score(X_combined, y)) "
   ]
  },
  {
   "cell_type": "code",
   "execution_count": 266,
   "metadata": {},
   "outputs": [],
   "source": [
    "# Let us create an interaction feature by using simple multiple operation "
   ]
  },
  {
   "cell_type": "code",
   "execution_count": 52,
   "metadata": {},
   "outputs": [
    {
     "name": "stdout",
     "output_type": "stream",
     "text": [
      "(120, 20)\n"
     ]
    }
   ],
   "source": [
    "X_product = np.hstack([X_binned, X_binned * X])\n",
    "\n",
    "\n",
    "print(X_product.shape)\n",
    "\n",
    "line_product = np.hstack([line_binned, line_binned * line])\n",
    "\n"
   ]
  },
  {
   "cell_type": "code",
   "execution_count": 53,
   "metadata": {},
   "outputs": [
    {
     "name": "stdout",
     "output_type": "stream",
     "text": [
      "[0. 0. 0. 0. 0. 0. 0. 0. 0. 1.]\n",
      "[2.70428584]\n",
      "[0.         0.         0.         0.         0.         0.\n",
      " 0.         0.         0.         2.70428584]\n"
     ]
    }
   ],
   "source": [
    "print(X_binned[1])\n",
    "print(X[1])\n",
    "print(X_binned[1] * X[1])"
   ]
  },
  {
   "cell_type": "code",
   "execution_count": 54,
   "metadata": {},
   "outputs": [
    {
     "data": {
      "text/plain": [
       "array([ 0.        ,  0.        ,  0.        ,  1.        ,  0.        ,\n",
       "        0.        ,  0.        ,  0.        ,  0.        ,  0.        ,\n",
       "       -0.        , -0.        , -0.        , -0.75275929, -0.        ,\n",
       "       -0.        , -0.        , -0.        , -0.        , -0.        ])"
      ]
     },
     "execution_count": 54,
     "metadata": {},
     "output_type": "execute_result"
    }
   ],
   "source": [
    "X_product[0]"
   ]
  },
  {
   "cell_type": "code",
   "execution_count": 55,
   "metadata": {
    "scrolled": true
   },
   "outputs": [
    {
     "data": {
      "text/plain": [
       "<matplotlib.legend.Legend at 0x1d69d79ffd0>"
      ]
     },
     "execution_count": 55,
     "metadata": {},
     "output_type": "execute_result"
    },
    {
     "data": {
      "image/png": "[encoded data removed]",
      "text/plain": [
       "<Figure size 432x288 with 1 Axes>"
      ]
     },
     "metadata": {
      "needs_background": "light"
     },
     "output_type": "display_data"
    }
   ],
   "source": [
    "linreg = LinearRegression().fit(X_product, y)\n",
    "predicted = linreg.predict(line_product)\n",
    "plt.plot(line, predicted, label = 'Linear Regressor product of features')\n",
    "\n",
    "Dtreg = DecisionTreeRegressor(min_samples_split = 5).fit(X_product,y)\n",
    "predicted = Dtreg.predict(line_product)\n",
    "plt.plot(line, predicted, label=\"Decision Tree product\")\n",
    "\n",
    "\n",
    "plt.plot(X[:,0], y, 'o', c='k')    # Note: we are plotting original X Vs Y, hence the model slope may not reflect coeff\n",
    "plt.vlines(kb.bin_edges_[0], -3,3, linewidth=1, alpha=.2)\n",
    "plt.ylabel(\"Regression Output\")\n",
    "plt.xlabel(\"Input Features\")\n",
    "plt.legend(loc = 'best')"
   ]
  },
  {
   "cell_type": "code",
   "execution_count": 56,
   "metadata": {},
   "outputs": [],
   "source": [
    "# Each bin has it's own offset and its own coefficient."
   ]
  },
  {
   "cell_type": "code",
   "execution_count": 57,
   "metadata": {},
   "outputs": [
    {
     "name": "stdout",
     "output_type": "stream",
     "text": [
      "coefficients for each bin \n",
      " [-1.64806752  0.55094869  2.63066389 -2.75832344 -0.57192192 -0.44136044\n",
      "  0.72411153 -2.04973825  0.52299325  3.04069421 -0.06780242  1.0846453\n",
      "  2.40997624 -2.13237714  2.29987211  2.24215658 -1.15422223  1.49089011\n",
      "  0.20699844 -0.99043343]\n",
      "\n",
      "intercept\n",
      " 0.4899823942964126\n"
     ]
    }
   ],
   "source": [
    "# Each bin has it's own offset and coefficient\n",
    "\n",
    "print(\"coefficients for each bin \\n\", linreg.coef_ ) #coefficients for each bin.\n",
    "print(\"\")\n",
    "print(\"intercept\\n\", linreg.intercept_)"
   ]
  },
  {
   "cell_type": "code",
   "execution_count": 58,
   "metadata": {},
   "outputs": [
    {
     "name": "stdout",
     "output_type": "stream",
     "text": [
      "0.787287089329761\n",
      "0.9359711056059232\n"
     ]
    }
   ],
   "source": [
    "print(linreg.score(X_product, y))\n",
    "print(Dtreg.score(X_product, y))"
   ]
  },
  {
   "cell_type": "markdown",
   "metadata": {},
   "source": [
    "# Polynomial feature transformation "
   ]
  },
  {
   "cell_type": "code",
   "execution_count": 59,
   "metadata": {},
   "outputs": [],
   "source": [
    "from sklearn.preprocessing import PolynomialFeatures\n"
   ]
  },
  {
   "cell_type": "code",
   "execution_count": 60,
   "metadata": {},
   "outputs": [],
   "source": [
    "poly = PolynomialFeatures(degree=15, include_bias=False)"
   ]
  },
  {
   "cell_type": "code",
   "execution_count": 61,
   "metadata": {},
   "outputs": [
    {
     "data": {
      "text/plain": [
       "PolynomialFeatures(degree=15, include_bias=False, interaction_only=False)"
      ]
     },
     "execution_count": 61,
     "metadata": {},
     "output_type": "execute_result"
    }
   ],
   "source": [
    "poly.fit(X)"
   ]
  },
  {
   "cell_type": "code",
   "execution_count": 62,
   "metadata": {},
   "outputs": [],
   "source": [
    "X_poly = poly.transform(X)\n",
    "\n",
    "line_poly = poly.transform(line)"
   ]
  },
  {
   "cell_type": "code",
   "execution_count": 63,
   "metadata": {},
   "outputs": [
    {
     "name": "stdout",
     "output_type": "stream",
     "text": [
      "X_poly shape:  (120, 15)\n"
     ]
    }
   ],
   "source": [
    "print(\"X_poly shape: \", X_poly.shape)"
   ]
  },
  {
   "cell_type": "code",
   "execution_count": 64,
   "metadata": {},
   "outputs": [
    {
     "name": "stdout",
     "output_type": "stream",
     "text": [
      "Records in X \n",
      " [-0.75275929]\n",
      "Records in X_poly \n",
      " [-0.75275929  0.56664654 -0.42654845  0.32108831 -0.2417022   0.18194358\n",
      " -0.13695972  0.1030977  -0.07760775  0.05841996 -0.04397616  0.03310347\n",
      " -0.02491894  0.01875796 -0.01412023]\n"
     ]
    }
   ],
   "source": [
    "# Let us see the difference in the X and X_poly entries\n",
    "\n",
    "print(\"Records in X \\n\", X[0])\n",
    "print(\"Records in X_poly \\n\",X_poly[0])"
   ]
  },
  {
   "cell_type": "code",
   "execution_count": 65,
   "metadata": {},
   "outputs": [
    {
     "name": "stdout",
     "output_type": "stream",
     "text": [
      "X_Poly feature names :  ['x0', 'x0^2', 'x0^3', 'x0^4', 'x0^5', 'x0^6', 'x0^7', 'x0^8', 'x0^9', 'x0^10', 'x0^11', 'x0^12', 'x0^13', 'x0^14', 'x0^15']\n"
     ]
    }
   ],
   "source": [
    "# the columns are x, x^2, x ^3\n",
    "\n",
    "print(\"X_Poly feature names : \" , poly.get_feature_names())"
   ]
  },
  {
   "cell_type": "code",
   "execution_count": 66,
   "metadata": {},
   "outputs": [
    {
     "data": {
      "text/plain": [
       "<matplotlib.legend.Legend at 0x1d69df76b38>"
      ]
     },
     "execution_count": 66,
     "metadata": {},
     "output_type": "execute_result"
    },
    {
     "data": {
      "image/png": "[encoded data removed]",
      "text/plain": [
       "<Figure size 432x288 with 1 Axes>"
      ]
     },
     "metadata": {
      "needs_background": "light"
     },
     "output_type": "display_data"
    }
   ],
   "source": [
    "linreg = LinearRegression().fit(X_poly, y)\n",
    "predicted = linreg.predict(line_poly)\n",
    "plt.plot(line, predicted, label = 'Linear Regressor product of features')\n",
    "\n",
    "Dtreg = DecisionTreeRegressor(min_samples_split = 5).fit(X_poly,y)\n",
    "predicted = Dtreg.predict(line_poly)\n",
    "plt.plot(line, predicted, label=\"Decision Tree product\")\n",
    "\n",
    "\n",
    "plt.plot(X[:,0], y, 'o', c='k')    # Note: we are plotting original X Vs Y, hence the model slope may not reflect coeff\n",
    "plt.vlines(kb.bin_edges_[0], -3,3, linewidth=1, alpha=.2)\n",
    "plt.ylabel(\"Regression Output\")\n",
    "plt.xlabel(\"Input Features\")\n",
    "plt.legend(loc = 'best')"
   ]
  },
  {
   "cell_type": "code",
   "execution_count": 67,
   "metadata": {},
   "outputs": [
    {
     "name": "stdout",
     "output_type": "stream",
     "text": [
      "0.7883503957464659\n",
      "0.9390385024268483\n"
     ]
    }
   ],
   "source": [
    "print(linreg.score(X_poly, y))\n",
    "print(Dtreg.score(X_poly, y))"
   ]
  },
  {
   "cell_type": "code",
   "execution_count": 68,
   "metadata": {},
   "outputs": [],
   "source": [
    "# Though polynomial features give a smoother and fitting curve, the problem with such features is the behaviour of the model \n",
    "# at the extreme values or in regions where data is scant. This could lead to variance errors. If we have to generate polynomial \n",
    "# features, SVM /SVR may be a natural choice as SVR generates features using kernels automatically"
   ]
  },
  {
   "cell_type": "markdown",
   "metadata": {},
   "source": [
    "# SVM generated features"
   ]
  },
  {
   "cell_type": "code",
   "execution_count": 69,
   "metadata": {},
   "outputs": [],
   "source": [
    "from sklearn.svm import SVR"
   ]
  },
  {
   "cell_type": "code",
   "execution_count": 380,
   "metadata": {},
   "outputs": [
    {
     "data": {
      "text/plain": [
       "<matplotlib.legend.Legend at 0x15f3ac7d9b0>"
      ]
     },
     "execution_count": 380,
     "metadata": {},
     "output_type": "execute_result"
    },
    {
     "data": {
      "image/png": "[encoded data removed]",
      "text/plain": [
       "<matplotlib.figure.Figure at 0x15f39898ac8>"
      ]
     },
     "metadata": {},
     "output_type": "display_data"
    }
   ],
   "source": [
    "for gamma in [1,10]:\n",
    "    svr = SVR(gamma = gamma).fit(X, y)   # default degree = 3 \n",
    "    predicted = svr.predict(line)\n",
    "    plt.plot(line, predicted, label = 'SVR gamma={}'.format(gamma ))\n",
    "    \n",
    "plt.plot(X[:,0], y, 'o', c='k')    # Note: we are plotting original X Vs Y, hence the model slope may not reflect coeff\n",
    "plt.vlines(kb.bin_edges_[0], -3,3, linewidth=1, alpha=.2)\n",
    "plt.ylabel(\"Regression Output\")\n",
    "plt.xlabel(\"Input Features\")\n",
    "plt.legend(loc = 'best')"
   ]
  },
  {
   "cell_type": "code",
   "execution_count": 381,
   "metadata": {},
   "outputs": [
    {
     "name": "stdout",
     "output_type": "stream",
     "text": [
      "0.7872376732593508\n"
     ]
    }
   ],
   "source": [
    "print(svr.score(X, y))  #SVR gives same peformance at degree 3 gamma 5 "
   ]
  },
  {
   "cell_type": "markdown",
   "metadata": {},
   "source": [
    "# Regularizing linear models to select features"
   ]
  },
  {
   "cell_type": "code",
   "execution_count": 382,
   "metadata": {},
   "outputs": [
    {
     "data": {
      "text/plain": [
       "{'C': 1.0,\n",
       " 'cache_size': 200,\n",
       " 'coef0': 0.0,\n",
       " 'degree': 3,\n",
       " 'epsilon': 0.1,\n",
       " 'gamma': 10,\n",
       " 'kernel': 'rbf',\n",
       " 'max_iter': -1,\n",
       " 'shrinking': True,\n",
       " 'tol': 0.001,\n",
       " 'verbose': False}"
      ]
     },
     "execution_count": 382,
     "metadata": {},
     "output_type": "execute_result"
    }
   ],
   "source": [
    "svr.get_params()"
   ]
  },
  {
   "cell_type": "code",
   "execution_count": null,
   "metadata": {},
   "outputs": [],
   "source": []
  }
 ],
 "metadata": {
  "kernelspec": {
   "display_name": "Python 3",
   "language": "python",
   "name": "python3"
  },
  "language_info": {
   "codemirror_mode": {
    "name": "ipython",
    "version": 3
   },
   "file_extension": ".py",
   "mimetype": "text/x-python",
   "name": "python",
   "nbconvert_exporter": "python",
   "pygments_lexer": "ipython3",
   "version": "3.7.0"
  }
 },
 "nbformat": 4,
 "nbformat_minor": 2
}
