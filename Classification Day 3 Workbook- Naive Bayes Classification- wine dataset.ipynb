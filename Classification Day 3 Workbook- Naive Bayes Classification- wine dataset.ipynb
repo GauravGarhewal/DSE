{
 "cells": [
  {
   "cell_type": "code",
   "execution_count": 2,
   "metadata": {},
   "outputs": [
    {
     "name": "stderr",
     "output_type": "stream",
     "text": [
      "C:\\Users\\Gaurav\\AppData\\Local\\Continuum\\anaconda3\\lib\\site-packages\\sklearn\\ensemble\\weight_boosting.py:29: DeprecationWarning: numpy.core.umath_tests is an internal NumPy module and should not be imported. It will be removed in a future NumPy release.\n",
      "  from numpy.core.umath_tests import inner1d\n"
     ]
    }
   ],
   "source": [
    "import numpy as np\n",
    "import pandas as pd\n",
    "import matplotlib.pyplot as plt\n",
    "import seaborn as sns\n",
    "%matplotlib inline\n",
    "\n",
    "from sklearn.model_selection import train_test_split\n",
    "from sklearn.tree import DecisionTreeClassifier  \n",
    "from sklearn.ensemble import RandomForestClassifier\n",
    "\n",
    "from sklearn.neighbors import KNeighborsClassifier\n",
    "from sklearn.linear_model import LogisticRegression\n",
    "\n",
    "from sklearn.naive_bayes import GaussianNB\n",
    "from sklearn.linear_model import LogisticRegression\n",
    "\n",
    "from sklearn.preprocessing import StandardScaler\n",
    "from sklearn import model_selection\n",
    "from scipy.stats import zscore\n",
    "\n",
    "from sklearn import metrics\n",
    "from sklearn.model_selection import GridSearchCV\n",
    "\n",
    "import warnings\n",
    "warnings.filterwarnings('ignore')\n",
    "\n",
    "from IPython.display import Image\n",
    "from sklearn import tree\n",
    "from os import system"
   ]
  },
  {
   "cell_type": "code",
   "execution_count": 3,
   "metadata": {},
   "outputs": [
    {
     "data": {
      "text/html": [
       "<div>\n",
       "<style scoped>\n",
       "    .dataframe tbody tr th:only-of-type {\n",
       "        vertical-align: middle;\n",
       "    }\n",
       "\n",
       "    .dataframe tbody tr th {\n",
       "        vertical-align: top;\n",
       "    }\n",
       "\n",
       "    .dataframe thead th {\n",
       "        text-align: right;\n",
       "    }\n",
       "</style>\n",
       "<table border=\"1\" class=\"dataframe\">\n",
       "  <thead>\n",
       "    <tr style=\"text-align: right;\">\n",
       "      <th></th>\n",
       "      <th>Class</th>\n",
       "      <th>Alcohol</th>\n",
       "      <th>Malic_Acid</th>\n",
       "      <th>Ash</th>\n",
       "      <th>AlcaofAsh</th>\n",
       "      <th>Mg</th>\n",
       "      <th>Tot_phenol</th>\n",
       "      <th>Flavanoid</th>\n",
       "      <th>NonFlaPh</th>\n",
       "      <th>Proanthocyanins</th>\n",
       "      <th>Color_Intensity</th>\n",
       "      <th>Hue</th>\n",
       "      <th>OD280/OD315 of diluted wines</th>\n",
       "      <th>Proline</th>\n",
       "    </tr>\n",
       "  </thead>\n",
       "  <tbody>\n",
       "    <tr>\n",
       "      <th>0</th>\n",
       "      <td>1</td>\n",
       "      <td>14.23</td>\n",
       "      <td>1.71</td>\n",
       "      <td>2.43</td>\n",
       "      <td>15.6</td>\n",
       "      <td>127</td>\n",
       "      <td>2.80</td>\n",
       "      <td>3.06</td>\n",
       "      <td>0.28</td>\n",
       "      <td>2.29</td>\n",
       "      <td>5.64</td>\n",
       "      <td>1.04</td>\n",
       "      <td>3.92</td>\n",
       "      <td>1065</td>\n",
       "    </tr>\n",
       "    <tr>\n",
       "      <th>1</th>\n",
       "      <td>1</td>\n",
       "      <td>13.20</td>\n",
       "      <td>1.78</td>\n",
       "      <td>2.14</td>\n",
       "      <td>11.2</td>\n",
       "      <td>100</td>\n",
       "      <td>2.65</td>\n",
       "      <td>2.76</td>\n",
       "      <td>0.26</td>\n",
       "      <td>1.28</td>\n",
       "      <td>4.38</td>\n",
       "      <td>1.05</td>\n",
       "      <td>3.40</td>\n",
       "      <td>1050</td>\n",
       "    </tr>\n",
       "    <tr>\n",
       "      <th>2</th>\n",
       "      <td>1</td>\n",
       "      <td>13.16</td>\n",
       "      <td>2.36</td>\n",
       "      <td>2.67</td>\n",
       "      <td>18.6</td>\n",
       "      <td>101</td>\n",
       "      <td>2.80</td>\n",
       "      <td>3.24</td>\n",
       "      <td>0.30</td>\n",
       "      <td>2.81</td>\n",
       "      <td>5.68</td>\n",
       "      <td>1.03</td>\n",
       "      <td>3.17</td>\n",
       "      <td>1185</td>\n",
       "    </tr>\n",
       "    <tr>\n",
       "      <th>3</th>\n",
       "      <td>1</td>\n",
       "      <td>14.37</td>\n",
       "      <td>1.95</td>\n",
       "      <td>2.50</td>\n",
       "      <td>16.8</td>\n",
       "      <td>113</td>\n",
       "      <td>3.85</td>\n",
       "      <td>3.49</td>\n",
       "      <td>0.24</td>\n",
       "      <td>2.18</td>\n",
       "      <td>7.80</td>\n",
       "      <td>0.86</td>\n",
       "      <td>3.45</td>\n",
       "      <td>1480</td>\n",
       "    </tr>\n",
       "    <tr>\n",
       "      <th>4</th>\n",
       "      <td>1</td>\n",
       "      <td>13.24</td>\n",
       "      <td>2.59</td>\n",
       "      <td>2.87</td>\n",
       "      <td>21.0</td>\n",
       "      <td>118</td>\n",
       "      <td>2.80</td>\n",
       "      <td>2.69</td>\n",
       "      <td>0.39</td>\n",
       "      <td>1.82</td>\n",
       "      <td>4.32</td>\n",
       "      <td>1.04</td>\n",
       "      <td>2.93</td>\n",
       "      <td>735</td>\n",
       "    </tr>\n",
       "  </tbody>\n",
       "</table>\n",
       "</div>"
      ],
      "text/plain": [
       "   Class  Alcohol  Malic_Acid   Ash  AlcaofAsh   Mg  Tot_phenol  Flavanoid  \\\n",
       "0      1    14.23        1.71  2.43       15.6  127        2.80       3.06   \n",
       "1      1    13.20        1.78  2.14       11.2  100        2.65       2.76   \n",
       "2      1    13.16        2.36  2.67       18.6  101        2.80       3.24   \n",
       "3      1    14.37        1.95  2.50       16.8  113        3.85       3.49   \n",
       "4      1    13.24        2.59  2.87       21.0  118        2.80       2.69   \n",
       "\n",
       "   NonFlaPh  Proanthocyanins  Color_Intensity   Hue  \\\n",
       "0      0.28             2.29             5.64  1.04   \n",
       "1      0.26             1.28             4.38  1.05   \n",
       "2      0.30             2.81             5.68  1.03   \n",
       "3      0.24             2.18             7.80  0.86   \n",
       "4      0.39             1.82             4.32  1.04   \n",
       "\n",
       "   OD280/OD315 of diluted wines  Proline  \n",
       "0                          3.92     1065  \n",
       "1                          3.40     1050  \n",
       "2                          3.17     1185  \n",
       "3                          3.45     1480  \n",
       "4                          2.93      735  "
      ]
     },
     "execution_count": 3,
     "metadata": {},
     "output_type": "execute_result"
    }
   ],
   "source": [
    "df = pd.read_csv('wine.xls', names = ['Class','Alcohol', 'Malic_Acid','Ash','AlcaofAsh', 'Mg','Tot_phenol','Flavanoid','NonFlaPh','Proanthocyanins','Color_Intensity','Hue','OD280/OD315 of diluted wines','Proline'])\n",
    "df.head()"
   ]
  },
  {
   "cell_type": "code",
   "execution_count": 35,
   "metadata": {},
   "outputs": [
    {
     "data": {
      "text/plain": [
       "(178, 14)"
      ]
     },
     "execution_count": 35,
     "metadata": {},
     "output_type": "execute_result"
    }
   ],
   "source": [
    "df.shape"
   ]
  },
  {
   "cell_type": "code",
   "execution_count": 5,
   "metadata": {},
   "outputs": [],
   "source": [
    "x= df.drop('Class', axis=1)\n",
    "y= df.Class\n",
    "x_std= StandardScaler().fit_transform(x)"
   ]
  },
  {
   "cell_type": "code",
   "execution_count": 83,
   "metadata": {},
   "outputs": [],
   "source": [
    "x_train, x_test, y_train, y_test = train_test_split(x_std,y, test_size = 0.3, random_state=2)"
   ]
  },
  {
   "cell_type": "code",
   "execution_count": 7,
   "metadata": {},
   "outputs": [],
   "source": [
    "model = GaussianNB()\n",
    "model.fit(x_train,y_train)\n",
    "ypred=model.predict(x_test)"
   ]
  },
  {
   "cell_type": "code",
   "execution_count": 8,
   "metadata": {},
   "outputs": [
    {
     "name": "stdout",
     "output_type": "stream",
     "text": [
      "0.9629629629629629 \n",
      "\n",
      "\n",
      "[[19  1  0]\n",
      " [ 0 20  0]\n",
      " [ 0  1 13]] \n",
      "\n",
      "\n",
      "             precision    recall  f1-score   support\n",
      "\n",
      "          1       1.00      0.95      0.97        20\n",
      "          2       0.91      1.00      0.95        20\n",
      "          3       1.00      0.93      0.96        14\n",
      "\n",
      "avg / total       0.97      0.96      0.96        54\n",
      "\n",
      "None\n"
     ]
    }
   ],
   "source": [
    "print(metrics.accuracy_score(y_test,ypred),'\\n\\n')\n",
    "print(metrics.confusion_matrix(y_test,ypred),'\\n\\n')\n",
    "print(print(metrics.classification_report(y_test,ypred)))"
   ]
  },
  {
   "cell_type": "code",
   "execution_count": 62,
   "metadata": {},
   "outputs": [],
   "source": [
    "#dt_model= DecisionTreeClassifier(criterion='entropy', random_state=0)\n",
    "#rf_model = RandomForestClassifier(criterion='entropy',random_state=0)\n",
    "#log_model= LogisticRegression()\n",
    "#NB_model = GaussianNB()\n",
    "#knn_model = KNeighborsClassifier(weights= 'uniform', metric='euclidean')"
   ]
  },
  {
   "cell_type": "code",
   "execution_count": 63,
   "metadata": {},
   "outputs": [
    {
     "data": {
      "text/plain": [
       "{'max_depth': 4}"
      ]
     },
     "execution_count": 63,
     "metadata": {},
     "output_type": "execute_result"
    }
   ],
   "source": [
    "params= {'max_depth': np.arange(1,30)}\n",
    "GS= GridSearchCV(dt_model,params,cv=3)\n",
    "GS.fit(x_std,y)\n",
    "GS.best_params_"
   ]
  },
  {
   "cell_type": "code",
   "execution_count": 77,
   "metadata": {},
   "outputs": [
    {
     "data": {
      "text/plain": [
       "{'n_neighbors': 25}"
      ]
     },
     "execution_count": 77,
     "metadata": {},
     "output_type": "execute_result"
    }
   ],
   "source": [
    "params= {'n_neighbors': np.arange(1,30)}\n",
    "GS= GridSearchCV(knn_model,params,cv=3)\n",
    "GS.fit(x_std,y)\n",
    "GS.best_params_"
   ]
  },
  {
   "cell_type": "code",
   "execution_count": 65,
   "metadata": {},
   "outputs": [
    {
     "data": {
      "text/plain": [
       "{'max_depth': 2, 'n_estimators': 40}"
      ]
     },
     "execution_count": 65,
     "metadata": {},
     "output_type": "execute_result"
    }
   ],
   "source": [
    "params= {'max_depth': np.arange(1,30),'n_estimators': np.arange(1,60)}\n",
    "GS= GridSearchCV(rf_model,params,cv=3)\n",
    "GS.fit(x_std,y)\n",
    "GS.best_params_"
   ]
  },
  {
   "cell_type": "code",
   "execution_count": 78,
   "metadata": {},
   "outputs": [],
   "source": [
    "dt_model= DecisionTreeClassifier(criterion='entropy', max_depth=4, random_state=0)\n",
    "rf_model = RandomForestClassifier(n_estimators=40, max_depth=2, random_state=0)\n",
    "log_model= LogisticRegression()\n",
    "NB_model = GaussianNB()\n",
    "knn_model = KNeighborsClassifier(n_neighbors= 7, weights= 'uniform', metric='euclidean')"
   ]
  },
  {
   "cell_type": "code",
   "execution_count": 79,
   "metadata": {},
   "outputs": [
    {
     "data": {
      "text/plain": [
       "KNeighborsClassifier(algorithm='auto', leaf_size=30, metric='euclidean',\n",
       "           metric_params=None, n_jobs=1, n_neighbors=7, p=2,\n",
       "           weights='uniform')"
      ]
     },
     "execution_count": 79,
     "metadata": {},
     "output_type": "execute_result"
    }
   ],
   "source": [
    "dt_model.fit(x_std,y)\n",
    "rf_model.fit(x_std,y)\n",
    "log_model.fit(x_std,y)\n",
    "NB_model.fit(x_std,y)\n",
    "knn_model.fit(x_std,y)"
   ]
  },
  {
   "cell_type": "code",
   "execution_count": 80,
   "metadata": {},
   "outputs": [
    {
     "data": {
      "text/plain": [
       "[('DecisionTree',\n",
       "  DecisionTreeClassifier(class_weight=None, criterion='entropy', max_depth=4,\n",
       "              max_features=None, max_leaf_nodes=None,\n",
       "              min_impurity_decrease=0.0, min_impurity_split=None,\n",
       "              min_samples_leaf=1, min_samples_split=2,\n",
       "              min_weight_fraction_leaf=0.0, presort=False, random_state=0,\n",
       "              splitter='best')),\n",
       " ('RandomForest',\n",
       "  RandomForestClassifier(bootstrap=True, class_weight=None, criterion='gini',\n",
       "              max_depth=2, max_features='auto', max_leaf_nodes=None,\n",
       "              min_impurity_decrease=0.0, min_impurity_split=None,\n",
       "              min_samples_leaf=1, min_samples_split=2,\n",
       "              min_weight_fraction_leaf=0.0, n_estimators=40, n_jobs=1,\n",
       "              oob_score=False, random_state=0, verbose=0, warm_start=False)),\n",
       " ('LogisticReg',\n",
       "  LogisticRegression(C=1.0, class_weight=None, dual=False, fit_intercept=True,\n",
       "            intercept_scaling=1, max_iter=100, multi_class='ovr', n_jobs=1,\n",
       "            penalty='l2', random_state=None, solver='liblinear', tol=0.0001,\n",
       "            verbose=0, warm_start=False)),\n",
       " ('NaiveBayes', GaussianNB(priors=None)),\n",
       " ('KNeighbour',\n",
       "  KNeighborsClassifier(algorithm='auto', leaf_size=30, metric='euclidean',\n",
       "             metric_params=None, n_jobs=1, n_neighbors=7, p=2,\n",
       "             weights='uniform'))]"
      ]
     },
     "execution_count": 80,
     "metadata": {},
     "output_type": "execute_result"
    }
   ],
   "source": [
    "models=[]\n",
    "models.append(('DecisionTree',dt_model))\n",
    "models.append(('RandomForest',rf_model))\n",
    "models.append(('LogisticReg', log_model))\n",
    "models.append(('NaiveBayes', NB_model))\n",
    "models.append(('KNeighbour',knn_model))\n",
    "models"
   ]
  },
  {
   "cell_type": "code",
   "execution_count": 81,
   "metadata": {},
   "outputs": [
    {
     "name": "stdout",
     "output_type": "stream",
     "text": [
      "DecisionTree: 0.881905 (0.048117)\n",
      "RandomForest: 0.801905 (0.236152)\n",
      "LogisticReg: 0.955397 (0.037611)\n",
      "NaiveBayes: 0.932698 (0.028405)\n",
      "KNeighbour: 0.904762 (0.062373)\n"
     ]
    }
   ],
   "source": [
    "results= []\n",
    "names= []\n",
    "scoring= 'accuracy'\n",
    "\n",
    "for name,model in models:\n",
    "    kfold= model_selection.KFold(n_splits = 5, random_state=2)\n",
    "    cv_results = model_selection.cross_val_score(model, x_std, y, cv=kfold, scoring=scoring)\n",
    "    results.append(cv_results)\n",
    "    names.append(name)\n",
    "    msg = \"%s: %f (%f)\" %(name,cv_results.mean(),cv_results.std())\n",
    "    print(msg)"
   ]
  },
  {
   "cell_type": "code",
   "execution_count": 93,
   "metadata": {},
   "outputs": [
    {
     "data": {
      "text/plain": [
       "12     1\n",
       "23     1\n",
       "166    3\n",
       "25     1\n",
       "35     1\n",
       "13     1\n",
       "65     2\n",
       "171    3\n",
       "112    2\n",
       "48     1\n",
       "78     2\n",
       "3      1\n",
       "6      1\n",
       "158    3\n",
       "149    3\n",
       "122    2\n",
       "42     1\n",
       "2      1\n",
       "29     1\n",
       "157    3\n",
       "130    3\n",
       "45     1\n",
       "106    2\n",
       "94     2\n",
       "5      1\n",
       "53     1\n",
       "93     2\n",
       "41     1\n",
       "54     1\n",
       "24     1\n",
       "133    3\n",
       "64     2\n",
       "151    3\n",
       "153    3\n",
       "28     1\n",
       "113    2\n",
       "154    3\n",
       "120    2\n",
       "89     2\n",
       "92     2\n",
       "156    3\n",
       "144    3\n",
       "79     2\n",
       "14     1\n",
       "163    3\n",
       "119    2\n",
       "129    2\n",
       "44     1\n",
       "150    3\n",
       "66     2\n",
       "123    2\n",
       "127    2\n",
       "109    2\n",
       "85     2\n",
       "Name: Class, dtype: int64"
      ]
     },
     "execution_count": 93,
     "metadata": {},
     "output_type": "execute_result"
    }
   ],
   "source": [
    "pred_test= log_model.predict_proba(x_test)\n",
    "\n",
    "pred_test[:,1]\n",
    "\n",
    "y_test"
   ]
  },
  {
   "cell_type": "code",
   "execution_count": null,
   "metadata": {},
   "outputs": [],
   "source": []
  }
 ],
 "metadata": {
  "kernelspec": {
   "display_name": "Python 3",
   "language": "python",
   "name": "python3"
  },
  "language_info": {
   "codemirror_mode": {
    "name": "ipython",
    "version": 3
   },
   "file_extension": ".py",
   "mimetype": "text/x-python",
   "name": "python",
   "nbconvert_exporter": "python",
   "pygments_lexer": "ipython3",
   "version": "3.7.0"
  }
 },
 "nbformat": 4,
 "nbformat_minor": 2
}
