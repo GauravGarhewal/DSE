{
 "cells": [
  {
   "cell_type": "code",
   "execution_count": 1,
   "metadata": {},
   "outputs": [],
   "source": [
    "import numpy as np"
   ]
  },
  {
   "cell_type": "code",
   "execution_count": 9,
   "metadata": {},
   "outputs": [],
   "source": [
    "def my_gpdf(x,mean,sd):\n",
    "    exponent = np.exp(-((x-mean)**2/(2*sd**2)))\n",
    "    return (1/(np.sqrt(2*np.pi)*sd))*exponent"
   ]
  },
  {
   "cell_type": "code",
   "execution_count": 15,
   "metadata": {},
   "outputs": [
    {
     "name": "stdout",
     "output_type": "stream",
     "text": [
      "5.2 1.7204650534085253 \n",
      " 65.2 7.413501197140255\n",
      "27.2 3.4292856398964493 \n",
      " 166.8 8.541662601625049\n"
     ]
    }
   ],
   "source": [
    "child_age=[8,5,6,4,3]\n",
    "child_h=[60,70,54,67,75]\n",
    "adult_age=[27,30,32,24,23]\n",
    "adult_h=[160,172,180,156,166]\n",
    "\n",
    "m_ca=np.mean(child_age)\n",
    "m_ch=np.mean(child_h)\n",
    "s_ca=np.std(child_age)\n",
    "s_ch=np.std(child_h)\n",
    "\n",
    "print(m_ca,s_ca,'\\n',m_ch,s_ch)\n",
    "\n",
    "m_aa= np.mean(adult_age)\n",
    "m_ah= np.mean(adult_h)\n",
    "s_aa= np.std(adult_age)\n",
    "s_ah= np.std(adult_h)\n",
    "\n",
    "print(m_aa, s_aa,'\\n', m_ah, s_ah)"
   ]
  },
  {
   "cell_type": "code",
   "execution_count": 16,
   "metadata": {},
   "outputs": [],
   "source": [
    "test=[35,178]"
   ]
  },
  {
   "cell_type": "code",
   "execution_count": 20,
   "metadata": {},
   "outputs": [
    {
     "data": {
      "text/plain": [
       "2.377154053095364e-118"
      ]
     },
     "execution_count": 20,
     "metadata": {},
     "output_type": "execute_result"
    }
   ],
   "source": [
    "p_test_child=my_gpdf(35,m_ca,s_ca)*my_gpdf(178,m_ch,s_ch)*0.5\n",
    "p_test_child"
   ]
  },
  {
   "cell_type": "code",
   "execution_count": 21,
   "metadata": {},
   "outputs": [
    {
     "data": {
      "text/plain": [
       "8.655628103762673e-05"
      ]
     },
     "execution_count": 21,
     "metadata": {},
     "output_type": "execute_result"
    }
   ],
   "source": [
    "p_test_adult= my_gpdf(35, m_aa,s_aa)* my_gpdf(178,m_ah,s_ah)*0.5\n",
    "p_test_adult"
   ]
  },
  {
   "cell_type": "code",
   "execution_count": 22,
   "metadata": {},
   "outputs": [],
   "source": [
    "import scipy.stats as stats"
   ]
  },
  {
   "cell_type": "code",
   "execution_count": 26,
   "metadata": {},
   "outputs": [
    {
     "data": {
      "text/plain": [
       "0.01976814616490189"
      ]
     },
     "execution_count": 26,
     "metadata": {},
     "output_type": "execute_result"
    }
   ],
   "source": [
    "stats.norm.pdf(178,166.8,8.54)"
   ]
  },
  {
   "cell_type": "code",
   "execution_count": 27,
   "metadata": {},
   "outputs": [
    {
     "data": {
      "text/plain": [
       "0.019770915627332093"
      ]
     },
     "execution_count": 27,
     "metadata": {},
     "output_type": "execute_result"
    }
   ],
   "source": [
    "my_gpdf(178,m_ah,s_ah)"
   ]
  },
  {
   "cell_type": "code",
   "execution_count": null,
   "metadata": {},
   "outputs": [],
   "source": []
  }
 ],
 "metadata": {
  "kernelspec": {
   "display_name": "Python 3",
   "language": "python",
   "name": "python3"
  },
  "language_info": {
   "codemirror_mode": {
    "name": "ipython",
    "version": 3
   },
   "file_extension": ".py",
   "mimetype": "text/x-python",
   "name": "python",
   "nbconvert_exporter": "python",
   "pygments_lexer": "ipython3",
   "version": "3.7.0"
  }
 },
 "nbformat": 4,
 "nbformat_minor": 2
}
