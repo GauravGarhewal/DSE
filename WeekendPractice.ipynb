{
 "cells": [
  {
   "cell_type": "code",
   "execution_count": 1,
   "metadata": {},
   "outputs": [],
   "source": [
    "import numpy as np"
   ]
  },
  {
   "cell_type": "code",
   "execution_count": 2,
   "metadata": {},
   "outputs": [],
   "source": [
    "sud=np.array([[0,4,0,0],[3,0,4,0],[1,0,0,4],[0,2,1,0]])"
   ]
  },
  {
   "cell_type": "code",
   "execution_count": 3,
   "metadata": {},
   "outputs": [
    {
     "name": "stdout",
     "output_type": "stream",
     "text": [
      "[[0 4 0 0]\n",
      " [3 0 4 0]\n",
      " [1 0 0 4]\n",
      " [0 2 1 0]]\n"
     ]
    }
   ],
   "source": [
    "print(sud)"
   ]
  },
  {
   "cell_type": "code",
   "execution_count": 4,
   "metadata": {},
   "outputs": [],
   "source": [
    "temp=sud.shape\n",
    "length=temp[0]"
   ]
  },
  {
   "cell_type": "code",
   "execution_count": 6,
   "metadata": {},
   "outputs": [],
   "source": [
    "for i in range(length):\n",
    "    for j in range(length):\n",
    "        if sud[i][j]==0:\n",
    "            temp1=1\n",
    "            temp2=1\n",
    "            count=[]\n",
    "            for k in range(length):\n",
    "                for l in range (length):\n",
    "                    if sud[i][k]==l+1:\n",
    "                        count.insert(0,(sud[i][k]))\n",
    "                        temp1+=1\n",
    "                    if sud[k][j]==l+1:\n",
    "                        count.insert(0,(sud[k][j]))\n",
    "                        temp2+=1\n",
    "            set1=set(count)\n",
    "            set2={1,2,3,4}\n",
    "            if len(set1)==4:\n",
    "                print(\"Error in the row: \",i,\"\\n and the column: \",j)\n",
    "            elif len(set1)==3:\n",
    "                set3=set2-set1\n",
    "                templist=list(set3)\n",
    "                sud[i][j]=templist[0]\n",
    "            else:\n",
    "                continue\n",
    "                    "
   ]
  },
  {
   "cell_type": "code",
   "execution_count": 28,
   "metadata": {},
   "outputs": [],
   "source": [
    "list1=[1,2,3]\n",
    "list1.insert(0,5)"
   ]
  },
  {
   "cell_type": "code",
   "execution_count": 7,
   "metadata": {},
   "outputs": [
    {
     "name": "stdout",
     "output_type": "stream",
     "text": [
      "[[2 4 3 1]\n",
      " [3 1 4 2]\n",
      " [1 3 2 4]\n",
      " [4 2 1 3]]\n"
     ]
    }
   ],
   "source": [
    "print(sud)"
   ]
  },
  {
   "cell_type": "code",
   "execution_count": 44,
   "metadata": {},
   "outputs": [],
   "source": [
    "sud[0][0]=5"
   ]
  },
  {
   "cell_type": "code",
   "execution_count": 33,
   "metadata": {},
   "outputs": [
    {
     "data": {
      "text/plain": [
       "16"
      ]
     },
     "execution_count": 33,
     "metadata": {},
     "output_type": "execute_result"
    }
   ],
   "source": [
    "sud.size\n"
   ]
  },
  {
   "cell_type": "code",
   "execution_count": 53,
   "metadata": {},
   "outputs": [
    {
     "name": "stdout",
     "output_type": "stream",
     "text": [
      "{1, 2, 3, 4, 5}\n"
     ]
    }
   ],
   "source": [
    "list1=[1,3,2,4,2,3,3,5]\n",
    "set2={5,3}\n",
    "set1=set(list1)\n",
    "print(set1)"
   ]
  },
  {
   "cell_type": "code",
   "execution_count": 58,
   "metadata": {},
   "outputs": [
    {
     "data": {
      "text/plain": [
       "int"
      ]
     },
     "execution_count": 58,
     "metadata": {},
     "output_type": "execute_result"
    }
   ],
   "source": [
    "type(len(set1))"
   ]
  },
  {
   "cell_type": "code",
   "execution_count": 72,
   "metadata": {},
   "outputs": [],
   "source": [
    "set1={1,2,3}\n",
    "set2={1,2,3,4}\n",
    "\n",
    "set3=set2-set1"
   ]
  },
  {
   "cell_type": "code",
   "execution_count": 66,
   "metadata": {},
   "outputs": [
    {
     "data": {
      "text/plain": [
       "{4}"
      ]
     },
     "execution_count": 66,
     "metadata": {},
     "output_type": "execute_result"
    }
   ],
   "source": [
    "set3"
   ]
  },
  {
   "cell_type": "code",
   "execution_count": 67,
   "metadata": {},
   "outputs": [
    {
     "data": {
      "text/plain": [
       "set"
      ]
     },
     "execution_count": 67,
     "metadata": {},
     "output_type": "execute_result"
    }
   ],
   "source": [
    "type(set3)"
   ]
  },
  {
   "cell_type": "code",
   "execution_count": 75,
   "metadata": {},
   "outputs": [],
   "source": [
    "l2=list(set3)"
   ]
  },
  {
   "cell_type": "code",
   "execution_count": 69,
   "metadata": {},
   "outputs": [
    {
     "data": {
      "text/plain": [
       "[4]"
      ]
     },
     "execution_count": 69,
     "metadata": {},
     "output_type": "execute_result"
    }
   ],
   "source": [
    "l2"
   ]
  },
  {
   "cell_type": "code",
   "execution_count": 76,
   "metadata": {},
   "outputs": [
    {
     "data": {
      "text/plain": [
       "4"
      ]
     },
     "execution_count": 76,
     "metadata": {},
     "output_type": "execute_result"
    }
   ],
   "source": [
    "l2[0]"
   ]
  },
  {
   "cell_type": "code",
   "execution_count": 105,
   "metadata": {},
   "outputs": [
    {
     "name": "stdout",
     "output_type": "stream",
     "text": [
      "The input sudoku query is :\n",
      "\n",
      " [[2 0 0 3 0 0 0 0 0]\n",
      " [8 0 4 0 6 2 0 0 3]\n",
      " [0 1 3 8 0 0 2 0 0]\n",
      " [0 0 0 0 2 0 3 9 0]\n",
      " [5 0 7 0 0 0 6 2 1]\n",
      " [0 3 2 0 0 6 0 0 0]\n",
      " [0 2 0 0 0 9 1 4 0]\n",
      " [6 0 1 2 5 0 8 0 9]\n",
      " [0 0 0 0 0 1 0 0 2]]\n",
      "\n",
      "The result of the above query is:\n",
      "\n",
      " [[2 0 0 3 0 0 0 0 0]\n",
      " [8 0 4 0 6 2 0 0 3]\n",
      " [0 1 3 8 0 0 2 0 0]\n",
      " [0 0 0 0 2 0 3 9 0]\n",
      " [5 0 7 0 0 0 6 2 1]\n",
      " [0 3 2 0 0 6 0 0 0]\n",
      " [0 2 0 0 0 9 1 4 0]\n",
      " [6 0 1 2 5 0 8 0 9]\n",
      " [0 0 0 0 0 1 0 0 2]]\n"
     ]
    }
   ],
   "source": [
    "import numpy as np\n",
    "\n",
    "sud=np.array([[2,0,0,3,0,0,0,0,0],[8,0,4,0,6,2,0,0,3],[0,1,3,8,0,0,2,0,0],[0,0,0,0,2,0,3,9,0],[5,0,7,0,0,0,6,2,1],[0,3,2,0,0,6,0,0,0],[0,2,0,0,0,9,1,4,0],[6,0,1,2,5,0,8,0,9],[0,0,0,0,0,1,0,0,2]])\n",
    "\n",
    "\n",
    "print(\"The input sudoku query is :\\n\\n\",sud)\n",
    "\n",
    "temp=sud.shape\n",
    "length=temp[0]\n",
    "\n",
    "\n",
    "for i in range(length):\n",
    "    for j in range(length):\n",
    "        if sud[i][j]==0:\n",
    "            temp1=1\n",
    "            temp2=1\n",
    "            count=[]\n",
    "            for k in range(length):\n",
    "                for l in range (length):\n",
    "                    if sud[i][k]==l+1:\n",
    "                        count.insert(0,(sud[i][k]))\n",
    "                        temp1+=1\n",
    "                    if sud[k][j]==l+1:\n",
    "                        count.insert(0,(sud[k][j]))\n",
    "                        temp2+=1\n",
    "            set1=set(count)\n",
    "            set2={1,2,3,4,5,6,7,8,9}\n",
    "            if len(set1)==9:\n",
    "                print(\"Error in the row: \",i,\"\\n and the column: \",j)\n",
    "            elif len(set1)==8:\n",
    "                set3=set2-set1\n",
    "                templist=list(set3)\n",
    "                sud[i][j]=templist[0]\n",
    "            else:\n",
    "                continue\n",
    "                    \n",
    "print(\"\\nThe result of the above query is:\\n\\n\",sud)"
   ]
  },
  {
   "cell_type": "code",
   "execution_count": 116,
   "metadata": {},
   "outputs": [
    {
     "name": "stdout",
     "output_type": "stream",
     "text": [
      "\n",
      "The result of the above query is:\n",
      "\n",
      " [[2 0 5 3 8 7 9 1 4]\n",
      " [8 9 4 1 6 2 7 5 3]\n",
      " [0 1 3 8 7 5 2 0 6]\n",
      " [7 6 0 4 2 8 3 9 5]\n",
      " [5 8 7 9 3 4 6 2 1]\n",
      " [1 3 2 7 4 6 5 0 8]\n",
      " [0 2 8 6 0 9 1 4 7]\n",
      " [6 4 1 2 5 3 8 7 9]\n",
      " [3 7 6 5 9 1 4 8 2]]\n"
     ]
    }
   ],
   "source": [
    "for i in range(length):\n",
    "    for j in range(length):\n",
    "        if sud[i][j]==0:\n",
    "            temp1=1\n",
    "            temp2=1\n",
    "            count=[]\n",
    "            for k in range(length):\n",
    "                for l in range (length):\n",
    "                    if sud[i][k]==l+1:\n",
    "                        count.insert(0,(sud[i][k]))\n",
    "                        temp1+=1\n",
    "                    if sud[k][j]==l+1:\n",
    "                        count.insert(0,(sud[k][j]))\n",
    "                        temp2+=1\n",
    "            set1=set(count)\n",
    "            set2={1,2,3,4,5,6,7,8,9}\n",
    "            if len(set1)==9:\n",
    "                continue\n",
    "            elif len(set1)==8:\n",
    "                set3=set2-set1\n",
    "                templist=list(set3)\n",
    "                sud[i][j]=templist[0]\n",
    "            else:\n",
    "                continue\n",
    "\n",
    "print(\"\\nThe result of the above query is:\\n\\n\",sud)"
   ]
  },
  {
   "cell_type": "code",
   "execution_count": 119,
   "metadata": {},
   "outputs": [
    {
     "name": "stdout",
     "output_type": "stream",
     "text": [
      "10\n",
      "The sum of the program is :  55\n"
     ]
    }
   ],
   "source": [
    "var=int(input())\n",
    "sum1=0\n",
    "a=0\n",
    "while(True):\n",
    "    sum1=sum1+a\n",
    "    if a==var:\n",
    "        break\n",
    "    a+=1\n",
    "print(\"The sum of the program is : \",sum1)"
   ]
  },
  {
   "cell_type": "code",
   "execution_count": 20,
   "metadata": {},
   "outputs": [
    {
     "name": "stdout",
     "output_type": "stream",
     "text": [
      "The input sudoku query is :\n",
      "\n",
      " [[2 0 1 0]\n",
      " [1 0 0 3]\n",
      " [4 1 0 2]\n",
      " [0 2 0 1]]\n",
      "\n",
      "The result of the above query is:\n",
      "\n",
      " [[2 3 1 4]\n",
      " [1 4 2 3]\n",
      " [4 1 3 2]\n",
      " [3 2 4 1]]\n"
     ]
    }
   ],
   "source": [
    "import numpy as np\n",
    "\n",
    "sud=np.array([[2,0,1,0],[1,0,0,3],[4,1,0,2],[0,2,0,1]])\n",
    "\n",
    "print(\"The input sudoku query is :\\n\\n\",sud)\n",
    "\n",
    "temp=sud.shape\n",
    "length=temp[0]\n",
    "\n",
    "def funcsudsol(sud):\n",
    "    for i in range(length):\n",
    "        for j in range(length):\n",
    "            if sud[i][j]==0:\n",
    "                count=[]\n",
    "                for k in range(length):\n",
    "                    if sud[i][k]!=0:\n",
    "                        count.insert(0,(sud[i][k]))\n",
    "                    if sud[k][j]!=0:\n",
    "                        count.insert(0,(sud[k][j]))\n",
    "                set1=set(count)\n",
    "                set2={1,2,3,4}\n",
    "                if len(set1)==4:\n",
    "                    print(\"Error in the row: \",i,\"\\n and the column: \",j)\n",
    "                elif len(set1)==3:\n",
    "                    set3=set2-set1\n",
    "                    templist=list(set3)\n",
    "                    sud[i][j]=templist[0]\n",
    "                else:\n",
    "                    continue\n",
    "    return\n",
    "  \n",
    "for i in range(length):\n",
    "    for j in range(length):\n",
    "        if sud[i][j]==0:\n",
    "            funcsudsol(sud)\n",
    "        i=0\n",
    "        j=0\n",
    "                    \n",
    "print(\"\\nThe result of the above query is:\\n\\n\",sud)"
   ]
  },
  {
   "cell_type": "code",
   "execution_count": 13,
   "metadata": {},
   "outputs": [
    {
     "name": "stdout",
     "output_type": "stream",
     "text": [
      "[[2 0 1 0]\n",
      " [1 0 2 3]\n",
      " [4 1 0 2]\n",
      " [0 2 0 1]]\n"
     ]
    }
   ],
   "source": [
    "sud=np.array([[2,0,1,0],[1,0,2,3],[4,1,0,2],[0,2,0,1]])\n",
    "print(sud)"
   ]
  },
  {
   "cell_type": "code",
   "execution_count": 15,
   "metadata": {},
   "outputs": [],
   "source": [
    "t= sud[2,1]"
   ]
  },
  {
   "cell_type": "code",
   "execution_count": 16,
   "metadata": {},
   "outputs": [
    {
     "data": {
      "text/plain": [
       "numpy.int32"
      ]
     },
     "execution_count": 16,
     "metadata": {},
     "output_type": "execute_result"
    }
   ],
   "source": [
    "type(t)"
   ]
  },
  {
   "cell_type": "code",
   "execution_count": 17,
   "metadata": {},
   "outputs": [],
   "source": [
    "list1=[]"
   ]
  },
  {
   "cell_type": "code",
   "execution_count": 18,
   "metadata": {},
   "outputs": [],
   "source": [
    "list1.append(sud[2,1])"
   ]
  },
  {
   "cell_type": "code",
   "execution_count": 19,
   "metadata": {},
   "outputs": [
    {
     "data": {
      "text/plain": [
       "[1]"
      ]
     },
     "execution_count": 19,
     "metadata": {},
     "output_type": "execute_result"
    }
   ],
   "source": [
    "list1"
   ]
  },
  {
   "cell_type": "code",
   "execution_count": null,
   "metadata": {},
   "outputs": [],
   "source": []
  }
 ],
 "metadata": {
  "kernelspec": {
   "display_name": "Python 3",
   "language": "python",
   "name": "python3"
  },
  "language_info": {
   "codemirror_mode": {
    "name": "ipython",
    "version": 3
   },
   "file_extension": ".py",
   "mimetype": "text/x-python",
   "name": "python",
   "nbconvert_exporter": "python",
   "pygments_lexer": "ipython3",
   "version": "3.7.0"
  }
 },
 "nbformat": 4,
 "nbformat_minor": 2
}
